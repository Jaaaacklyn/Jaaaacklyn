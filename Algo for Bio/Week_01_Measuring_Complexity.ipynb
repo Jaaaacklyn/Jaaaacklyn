{
 "cells": [
  {
   "cell_type": "markdown",
   "metadata": {
    "nbgrader": {
     "grade": false,
     "grade_id": "cell-14272392f0f2605b",
     "locked": true,
     "schema_version": 3,
     "solution": false,
     "task": false
    }
   },
   "source": [
    "# Week 1 - Measuring Complexity"
   ]
  },
  {
   "cell_type": "markdown",
   "metadata": {},
   "source": [
    "**Aims**\n",
    "\n",
    "The aims of this workshop are to\n",
    "- Ensure everyone is using a consistent OS, python environment, and IDE.\n",
    "- Get comfortable with writing & running cells in Jupyter notebooks \n",
    "- Explore sorting algorithms and measure their runtime complexity. \n",
    "\n",
    "**Important Checklist for Today**\n",
    "\n",
    "<input type=\"checkbox\" checked> I can open this .ipynb file. <br>\n",
    "<input type=\"checkbox\"> I have installed WSL (if my operating system is Windows). <br>\n",
    "<input type=\"checkbox\"> I have installed VSC & added recommended extensions (optional). <br>\n",
    "<input type=\"checkbox\"> I have installed Jupyter Lab. <br>\n",
    "<input type=\"checkbox\"> I have installed python3. <br>\n",
    "<input type=\"checkbox\"> I understand how to manage python packages using venv + pip. <br>\n"
   ]
  },
  {
   "cell_type": "markdown",
   "metadata": {},
   "source": [
    "## Introduction\n",
    "\n",
    "**Jupyter**\n",
    "\n",
    "We will be using <span style=\"color:lightseagreen\">Jupyter notebooks</span> (.ipynb files) for programming tasks in workshops and assignments.<br>\n",
    "We recommend [Jupyter Lab](https://jupyter.org/install) and [Visual Studio Code (VSC)](https://code.visualstudio.com/) for working with Jupyter notebooks in this subject.  <br>\n",
    "These are both known as 'Integrated Development Environments (IDEs)'.\n",
    "\n",
    "If you <u>*really*</u> can't run notebooks locally you can use [Google Colab](https://colab.research.google.com) or [Jupyter Online](https://jupyter.org/try). <br>\n",
    "If using Jupyter Online, your work will not be autosaved online, so you must periodically download your updated .ipynb file.\n",
    "\n",
    "\n",
    "**Jupyter Notebooks**\n",
    "\n",
    "Jupyter notebooks provide an interactive experience. <br>\n",
    "Formerly known as IPython notebooks, these have the .ipynb extension (\"<u>I</u>nteractive <u>PY</u>thon <u>N</u>ote<u>B</u>ooks\"). <br>\n",
    "Jupyter notebooks allow you to merge code with text in the form of markdown. <br>\n",
    "This means that documents don't need to be static. Users can interact with notebooks, change code, play with interactive figures, and lots more.\n",
    "\n",
    "Many different tools provide support Jupyter notebooks. \n",
    "- Popular IDEs (VSC, JetBrains etc)\n",
    "- Google Colab\n",
    "- The web-based [JupyterLab](https://jupyterlab.readthedocs.io/en/latest/) and [Jupyter Notebook](https://jupyter-notebook.readthedocs.io/en/latest/) software\n",
    "\n",
    "> \n",
    "> **Note**\n",
    "> \n",
    "> 'Jupyter notebook' can refer to two different things: \n",
    "> 1. The <u>actual .ipynb files</u> like those used in this subject. \n",
    "> 2. The <u>web application</u> for creating and sharing .ipynb documents.  \n",
    "> <br>\n",
    "\n",
    "**Completing Tutorials**\n",
    "\n",
    "During tutorials you may use any IDE which supports .ipynb files. \n",
    "\n",
    "In COMP90014 we recommend the following.\n",
    "- [Visual Studio Code (VSC)](https://code.visualstudio.com/)\n",
    "- [JupyterLab](https://jupyter.org/)\n",
    "\n",
    "Only use an alternative if you really know what you're doing. <br>\n",
    "We will only provide instructions / assistance for JupyterLab and VSC. \n",
    "\n",
    "**Completing Assignments**\n",
    "\n",
    "For assignment <span style=\"color:lightseagreen\">*submission*</span> you <u>***must use***</u> Jupyter Lab. <br>\n",
    "You may use the Jupyter Notebook software as an alternative, but will have to troubleshoot problems yourself.  <br>\n",
    "JupyterLab/Jupyter Notebook is required because our autograding software is built on jupyter, and other software (Colab, VSC etc) may corrupt the expected format. \n",
    "\n",
    "\n",
    "For assignment <span style=\"color:lightseagreen\">*development*</span> you <u>***may use***</u> anything you like. <br>\n",
    "In fact, an IDE such as VSC is recommended as provides useful features, such as debugging tools. "
   ]
  },
  {
   "cell_type": "markdown",
   "metadata": {},
   "source": [
    "## Operating System Setup\n",
    "\n",
    "***Linux or Mac*** must be used as operating system in this subject. <br>If you already have either of these, <span style=\"color:lightseagreen\">skip this section.</span> \n",
    "\n",
    "If you have a windows PC, fear not! <br>\n",
    "Linux can be run on windows via the *Windows Subsystem for Linux (WSL)* utility.\n",
    "\n",
    "**Installing Linux via WSL (Windows only)**\n",
    "\n",
    "*Install WSL*\n",
    "1. Open PowerShell or Windows Command Prompt in administrator mode by right-clicking and selecting \"Run as administrator\"\n",
    "2. Enter the <small>`wsl --install`</small> command\n",
    "3. Restart your machine\n",
    "4. Open PowerShell or Windows Command Prompt and enter <small>`wsl -l -v`</small> to check that the Ubuntu VERSION == 2.\n",
    "\n",
    "*Configure your Linux Distribution*\n",
    "1. Open 'Ubuntu' using the start menu\n",
    "    - WSL installs the Ubuntu Linux Distribution by default. \n",
    "    - On first open, Ubuntu will install & configure itself.\n",
    "2. Create a username and password\n",
    "    - This serves the same purpose as user/password on your windows OS. \n",
    "    - Details can be different from windows login. \n",
    "3. Update the Ubuntu package manager\n",
    "    - Ubuntu uses the <small>`apt`</small> package manager. \n",
    "    - Package managers allow you to install software on your Ubuntu machine.\n",
    "    - Think of <small>`apt`</small> as the Linux equivalent of the Microsoft Store.\n",
    "    - The <small>`apt`</small> package manager needs to be periodically updated so it's aware of currently available software & versions. \n",
    "    - Run the <small>`sudo apt update && sudo apt upgrade`</small> command to update <small>`apt`</small>. \n",
    "\n",
    "*Having Issues?*\n",
    "- See the guide at https://learn.microsoft.com/en-us/windows/wsl/troubleshooting\n",
    "- Talk with one of the teaching team. \n",
    "\n",
    "<br>"
   ]
  },
  {
   "cell_type": "markdown",
   "metadata": {},
   "source": [
    "\n",
    "## Installing Visual Studio Code (and adding extensions)\n",
    "\n",
    "**Installing VSC**\n",
    "\n",
    "We recommend Visual Studio Code (VSC) in this subject as it is lightweight and has rich support for extensions to add functionality. <br>\n",
    "Download Visual Studio Code for your system from [here](https://code.visualstudio.com/download) and follow the instructions for:\n",
    "- [macOS](https://code.visualstudio.com/docs/setup/mac)\n",
    "- [Linux](https://code.visualstudio.com/docs/setup/linux)\n",
    "- [Windows](https://code.visualstudio.com/docs/setup/windows)\n",
    "\n",
    "Once installed:\n",
    "1. Open VS Code\n",
    "2. Open a workspace by clicking 'Open Folder' in the 'Explorer' tab (top item of left navbar).\n",
    "3. Copy this .ipynb document to your workspace and open it. \n",
    "\n",
    "**Starting VSC on Windows PCs**\n",
    "\n",
    "If running Linux via WSL, connect VSC to your Linux distribution each time it is opened. \n",
    "1. Click the 'Open a remote window' button (bottom left corner)\n",
    "2. Select 'Connect to WSL' \n",
    "\n",
    "<br>\n",
    "\n",
    "<img src=\"https://raw.githubusercontent.com/melbournebioinformatics/COMP90014_2024/master/tutorials/media/week1/vsc_wsl.gif\" width=\"800\">\n",
    "\n",
    "\n",
    "**Adding Extensions**\n",
    "\n",
    "Out of the box, VSC doesn't have much functionality. It's intended to be configured by the user to tailor VSC based on their needs.  \n",
    "\n",
    "In our case, we will use VSC to:\n",
    "- Develop python code\n",
    "- Author and run .ipynb files \n",
    "\n",
    "To add this functionality to VSC we will install some *extensions.*<br>\n",
    "Extensions add features & support to your VSC. \n",
    "\n",
    "Add the following extensions (or confirm they are already installed):\n",
    "- Python\n",
    "- Jupyter\n",
    "- Jupyter Keymap\n",
    "- Jupyter Notebook Renderers\n",
    "\n",
    "<br>\n",
    "\n",
    "<img src=\"https://raw.githubusercontent.com/melbournebioinformatics/COMP90014_2024/master/tutorials/media/week1/vsc_extensions.gif\" width=\"200\">\n"
   ]
  },
  {
   "cell_type": "markdown",
   "metadata": {},
   "source": [
    "## Installing Python\n",
    "\n",
    "Python v3.10 or above is required for this subject. "
   ]
  },
  {
   "cell_type": "markdown",
   "metadata": {},
   "source": [
    "\n",
    "**Which python are you using?**\n",
    "\n",
    "> **Note**<br>\n",
    "> Any command line code in COMP90014 assumes the Bash shell is being used on Ubuntu. <br>\n",
    "> If using other shell programs and/or other operating systems your commands may be different. <br>\n",
    "> For example, if using zsh on macOS, <small>`whence -p python`</small> should be used rather than <small>`which python`</small>. \n",
    "\n",
    "Follow the instructions below to check your python installation. \n",
    "\n",
    "<div style=\"font-size: 16px\">\n",
    "\n",
    "(Bash Shell)\n",
    "> ```Bash\n",
    "> # check python binary path \n",
    "> which python \n",
    "> > /usr/bin/python\n",
    ">\n",
    "> # check python version \n",
    "> python -V \n",
    "> > Python 3.11.5\n",
    "> ```\n",
    "\n",
    "</div>\n",
    "\n",
    "The code above assumes that python is installed and your system knows where 'python' is. <br>\n",
    "If the expected output did not appear, check whether your system knows about 'python3' instead. \n",
    "\n",
    "<div style=\"font-size: 16px\">\n",
    "\n",
    "(Bash Shell)\n",
    "> ```Bash\n",
    "> # check python binary path \n",
    "> which python3\n",
    "> > /usr/bin/python\n",
    ">\n",
    "> # check python version \n",
    "> python3 -V \n",
    "> > Python 3.11.5\n",
    "> ```\n",
    "\n",
    "</div>\n",
    "\n",
    "If this worked, feel free to use <small>`python3`</small> instead of <small>`python`</small> going forward, or create an alias for python->python3. <br>\n",
    "In the example above, the same output is printed because <small>`python3`</small> is aliased to <small>`python`</small> on my system. \n",
    "\n",
    "> **Note**<br>\n",
    "> Make sure you're using your system python, not a version of python managed by tools like conda. <br>\n",
    "> The <small>`which python`</small> command should returns a path similar to <small>`/usr/bin/python`</small>. <br>\n",
    "> If instead the path contains 'miniconda' or 'conda' in it, disable conda profile autoactivation. <br>\n",
    "> Using a shell (Bash for ubuntu, zsh/terminal for mac), enter the following command: <small>`conda config --set auto_activate_base false`</small>.<br>\n",
    "> Restart VSC then check python version again to confirm the change. <br><br>\n"
   ]
  },
  {
   "cell_type": "markdown",
   "metadata": {},
   "source": [
    "\n",
    "**Installing latest Python**\n",
    "\n",
    "If you do not have python v3.10+ installed, you will need to do so. \n",
    "If running MacOS / Linux, the latest python version can be installed [here.](https://www.python.org/downloads/)<br>\n",
    "If running Ubuntu Linux via WSL, open Ubuntu, then follow these command line instructions:\n",
    "\n",
    "<div style=\"font-size: 16px\">\n",
    "\n",
    "(Bash Shell)\n",
    "> ```Bash\n",
    "> # update package manager \n",
    "> sudo apt update\n",
    "> \n",
    "> # install python \n",
    "> sudo apt install python3\n",
    ">\n",
    "> # verify installation\n",
    "> python3 -V\n",
    "> ```\n",
    "\n",
    "</div>\n",
    "\n"
   ]
  },
  {
   "cell_type": "markdown",
   "metadata": {},
   "source": [
    "\n",
    "## Managing python environments with pip + venv\n",
    "\n",
    "Proper management of your python environment is pivotal as a software engineer. <br>\n",
    "We will put this into practise in COMP90014. \n",
    "\n",
    "> **Note**<br>\n",
    "> Use of Conda (anaconda/miniconda/mamba etc) is strongly discouraged in this subject. <br> \n",
    "> If you have Conda installed, we advise you turn off auto-activation of the base environment. <br>\n",
    "> Using a shell (Bash for ubuntu, zsh/terminal for mac), enter the following command: <small>`conda config --set auto_activate_base false`</small>. <br>\n",
    "> <br>\n"
   ]
  },
  {
   "cell_type": "markdown",
   "metadata": {},
   "source": [
    "\n",
    "**What are environments and why do we care?**\n",
    "\n",
    "When a python programmer has multiple ongoing projects, package conflicts will eventually emerge. <br>\n",
    "This is because different python projects require different python libraries & versions. <br>\n",
    "In other words, each project has a unique python ***environment*** it needs to function. <br>\n",
    "\n",
    "If our COMP90014 programmer has a single python environment (the system python environment), conflicts will quickly emerge. <br>\n",
    "\n",
    "Take the following example:\n",
    "- Week 1 tutorial requires <small>`numpy v1.26.1`</small>\n",
    "- Week 2 tutorial requires <small>`numpy v2.0.0+`</small>\n",
    "\n",
    "The python package manager, [Pip](https://pip.pypa.io/en/stable/getting-started/), can't install two versions of the same package in a single environment at the same time. <br>\n",
    "Pip will have to uninstall one version to install the other. <br>\n",
    "The result is that your system python environment can ***run either*** the week 1 tutorial code, **or** the week 2 tutorial code, but never both.  \n",
    " \n",
    "This is a straightforward example. Environment conflicts can be truly harrowing in extreme cases. \n",
    "\n",
    "\n"
   ]
  },
  {
   "cell_type": "markdown",
   "metadata": {},
   "source": [
    "**Proper python environment management**\n",
    "\n",
    "In practise, the system python environment should never be used to actually run any python code (except for quick commands etc). \n",
    "\n",
    "Instead, each python project you're working on should have it's own environment. <br>\n",
    "This prevents odd bugs and helps minimise package conflicts. \n",
    "\n",
    "Each time you start working on a tutorial or assignment in COMP90014, do the following:\n",
    "1. Create a directory to work in. \n",
    "2. Change to that directory.\n",
    "3. Create a python environment. \n",
    "\n",
    "Using a shell (Bash for ubuntu, zsh/terminal for mac), follow the instructions below. \n",
    "\n",
    "<div style=\"font-size: 16px\">\n",
    "\n",
    "(Bash Shell)\n",
    "> ```Bash\n",
    "> \n",
    "> # navigate to the folder you will work in (example below, this can be wherever you like)\n",
    "> cd COMP90014/tutorials/week1\n",
    "> \n",
    "> # check your python is correct\n",
    "> which python \n",
    "> > /usr/bin/python\n",
    "> python -V \n",
    "> > Python 3.11.5\n",
    ">\n",
    "> # use the venv module to create a virtualenv. \n",
    "> # calling `python -m venv` runs the venv module, and the final 'venv' specifies the name of the environment\n",
    "> python -m venv venv\n",
    "> \n",
    "> # activate the environment to begin working \n",
    "> # note: only activates in your current shell. if using VSC / Jupyter Lab, ensure you select it as the 'kernel'.\n",
    "> source venv/bin/activate \n",
    "> \n",
    "> # check the environment is clean (should only list pip and setuptools)\n",
    "> pip list \n",
    "> \n",
    "> # Install the 'jupyter' package using pip. This is needed to run code in .ipynb files. \n",
    "> pip install jupyter\n",
    ">\n",
    "> # Install the 'matplotlib' package using pip. \n",
    "> pip install matplotlib\n",
    "> \n",
    "> # check the environment now has the required packages (should list a bunch of packages)\n",
    "> pip list \n",
    "> \n",
    "> ```\n",
    "\n",
    "</div>\n"
   ]
  },
  {
   "cell_type": "markdown",
   "metadata": {},
   "source": [
    "\n",
    "See the .gif below for an example using VSC. \n",
    "\n",
    "> **Note** <br>\n",
    "> Calling each environment 'venv' rather than a unique name is a common custom. <br>\n",
    "> The python environment should be stored in the main working directory of your project. <br>\n",
    "> For this reason, it's very location tells you \"I am the environment for python code in this directory\". \n",
    "\n",
    "Notice that the Bash shell displays loaded environments by prepending the environment name to your prompt. <br>\n",
    "In the example below, <small>`grace@DESKTOP-JI959V6:`</small> becomes <small>`(venv) grace@DESKTOP-JI959V6:`</small>.\n",
    "\n",
    "<img src=\"https://raw.githubusercontent.com/melbournebioinformatics/COMP90014_2024/master/tutorials/media/week1/vsc_python_venv.gif\" width=\"800\">"
   ]
  },
  {
   "cell_type": "markdown",
   "metadata": {},
   "source": [
    "\n",
    "The python venv environment is now loaded in your shell. \n",
    "\n",
    "**Working on notebooks**\n",
    "\n",
    "<u>*Visual Studio Code*</u>\n",
    "\n",
    "You will need to tell VSC to use this new venv environment. \n",
    "1. Open the .ipynb file\n",
    "2. Click 'Select Kernel' (top right), then select the python environment (venv) you just created. \n",
    "\n",
    "<u>*Jupyter Lab*</u>\n",
    "\n",
    "The correct environment should be already be loaded as it used to launch jupyter. \n",
    "1. Run jupyter by using the <small>`jupyter lab`</small> command in a shell.\n",
    "2. Copy the link it provides and open in your web browser to begin work.\n"
   ]
  },
  {
   "cell_type": "markdown",
   "metadata": {},
   "source": [
    "<br>\n",
    "\n",
    "------------\n",
    "\n",
    "# Features of Jupyter notebooks\n",
    "\n",
    "Jupyter notebooks (like this one) are organised into cells. If you double click this text, you can see (and edit) the content in the cell. Use Shift-Enter (or Shift-Return) to execute the cell."
   ]
  },
  {
   "cell_type": "markdown",
   "metadata": {},
   "source": [
    "**Markdown cells**\n",
    "\n",
    "This cell is a markdown cell. It appears as text. \n",
    "In markdown cells, you can format headings with \"#\" or subheadings with \"##\". \n",
    "\n",
    "You can also use **bold** or _italic_ type...\n",
    "* or bullet points\n",
    "1. or even numbered lists.\n",
    "\n",
    "Double click this cell to see how these elements are encoded."
   ]
  },
  {
   "cell_type": "markdown",
   "metadata": {},
   "source": [
    "**Code cells**\n",
    "\n",
    "The cell below is a code cell. Underneath is the output of that code.<br>\n",
    "The Jupyter notebooks we use for this subject will always use Python 3."
   ]
  },
  {
   "cell_type": "code",
   "execution_count": 2,
   "metadata": {},
   "outputs": [
    {
     "name": "stdout",
     "output_type": "stream",
     "text": [
      "Hello world!\n"
     ]
    }
   ],
   "source": [
    "print(\"Hello world!\")"
   ]
  },
  {
   "cell_type": "markdown",
   "metadata": {},
   "source": [
    "Execute the two code cells below. Note that variables defined in the first code cell can be used in the second cell without being redefined."
   ]
  },
  {
   "cell_type": "code",
   "execution_count": 3,
   "metadata": {},
   "outputs": [],
   "source": [
    "str_1 = 'foo'\n",
    "str_2 = 'bar'"
   ]
  },
  {
   "cell_type": "code",
   "execution_count": 4,
   "metadata": {},
   "outputs": [
    {
     "data": {
      "text/plain": [
       "'foobar'"
      ]
     },
     "execution_count": 4,
     "metadata": {},
     "output_type": "execute_result"
    }
   ],
   "source": [
    "str_1 + str_2"
   ]
  },
  {
   "cell_type": "markdown",
   "metadata": {},
   "source": [
    "Use Python code to complete the function in the cell below. Similar to the example above, a function defined in one cell can be called in another cell.\n",
    "\n",
    "The function should take two integers *a* and *b* as inputs and return the sum of *a* and *b* as an integer."
   ]
  },
  {
   "cell_type": "code",
   "execution_count": 5,
   "metadata": {},
   "outputs": [],
   "source": [
    "def add_ints(a, b):\n",
    "    # Your code here\n",
    "    return a + b"
   ]
  },
  {
   "cell_type": "code",
   "execution_count": 6,
   "metadata": {},
   "outputs": [
    {
     "data": {
      "text/plain": [
       "4"
      ]
     },
     "execution_count": 6,
     "metadata": {},
     "output_type": "execute_result"
    }
   ],
   "source": [
    "add_ints(1, 3) # Should output 4."
   ]
  },
  {
   "cell_type": "markdown",
   "metadata": {},
   "source": [
    "You can also use the command ? or help() to get help on any built-in functions. For instance, sorted? or help(sorted)."
   ]
  },
  {
   "cell_type": "code",
   "execution_count": 13,
   "metadata": {},
   "outputs": [
    {
     "name": "stdout",
     "output_type": "stream",
     "text": [
      "Help on built-in function sorted in module builtins:\n",
      "\n",
      "sorted(iterable, /, *, key=None, reverse=False)\n",
      "    Return a new list containing all items from the iterable in ascending order.\n",
      "\n",
      "    A custom key function can be supplied to customize the sort order, and the\n",
      "    reverse flag can be set to request the result in descending order.\n",
      "\n"
     ]
    },
    {
     "name": "stdout",
     "output_type": "stream",
     "text": [
      "\u001b[0;31mSignature:\u001b[0m \u001b[0msorted\u001b[0m\u001b[0;34m(\u001b[0m\u001b[0miterable\u001b[0m\u001b[0;34m,\u001b[0m \u001b[0;34m/\u001b[0m\u001b[0;34m,\u001b[0m \u001b[0;34m*\u001b[0m\u001b[0;34m,\u001b[0m \u001b[0mkey\u001b[0m\u001b[0;34m=\u001b[0m\u001b[0;32mNone\u001b[0m\u001b[0;34m,\u001b[0m \u001b[0mreverse\u001b[0m\u001b[0;34m=\u001b[0m\u001b[0;32mFalse\u001b[0m\u001b[0;34m)\u001b[0m\u001b[0;34m\u001b[0m\u001b[0;34m\u001b[0m\u001b[0m\n",
      "\u001b[0;31mDocstring:\u001b[0m\n",
      "Return a new list containing all items from the iterable in ascending order.\n",
      "\n",
      "A custom key function can be supplied to customize the sort order, and the\n",
      "reverse flag can be set to request the result in descending order.\n",
      "\u001b[0;31mType:\u001b[0m      builtin_function_or_method"
     ]
    }
   ],
   "source": [
    "sorted?\n",
    "help(sorted)"
   ]
  },
  {
   "cell_type": "markdown",
   "metadata": {},
   "source": [
    "You can run shell commands from the notebook by prefixing them with an `!`"
   ]
  },
  {
   "cell_type": "code",
   "execution_count": 14,
   "metadata": {},
   "outputs": [
    {
     "name": "stdout",
     "output_type": "stream",
     "text": [
      "total 240\n",
      "drwxr-xr-x  4 jacklyn  staff   128B Jul 29 20:33 \u001b[34m.\u001b[m\u001b[m\n",
      "drwxr-xr-x@ 8 jacklyn  staff   256B Jul 30 16:04 \u001b[34m..\u001b[m\u001b[m\n",
      "-rw-r--r--@ 1 jacklyn  staff    82K Jul 30 16:05 Week_01_Measuring_Complexity.ipynb\n",
      "-rw-r--r--@ 1 jacklyn  staff    36K Jul 29 20:33 Week_02_Indexing.ipynb\n"
     ]
    }
   ],
   "source": [
    "!ls -lah"
   ]
  },
  {
   "cell_type": "markdown",
   "metadata": {},
   "source": [
    "**Keyboard shortcuts**\n",
    "\n",
    "Below is a list of useful shortcuts. Try opening a new cell (a code cell by default) and converting it to a markdown cell. Try copying and pasting that cell. Play around with these shortcuts until you feel confident.\n",
    "* Shift-Enter : execute the code in the current cell\n",
    "* Enter : edit the current cell\n",
    "* ESC : stop editing a cell and return to \"command mode\" to use other hotkeys\n",
    "* m : turn the current cell into a Markdown cell\n",
    "* y : turn the current cell into a code cell\n",
    "* a : add a new cell above\n",
    "* b : add a new cell below\n",
    "* dd : delete the current cell\n",
    "* c : copy the current cell\n",
    "* v : paste the copied cell\n",
    "* z : undo\n"
   ]
  },
  {
   "cell_type": "markdown",
   "metadata": {},
   "source": [
    "For more information about using Jupyter notebooks, try this tutorial from AARNet:\n",
    "<https://aarnet.github.io/Introduction_to_Jupyter_notebooks/>"
   ]
  },
  {
   "cell_type": "markdown",
   "metadata": {},
   "source": [
    "<br>\n",
    "\n",
    "------------\n",
    "\n",
    "# Sorting Algorithms & Runtime Complexity"
   ]
  },
  {
   "cell_type": "markdown",
   "metadata": {},
   "source": [
    "In this final section we will:\n",
    "    \n",
    "1. Implement Selection Sort\n",
    "2. Implement Merge Sort\n",
    "3. Empirically determine complexity for Insertion, Merge, and Selection Sort"
   ]
  },
  {
   "cell_type": "code",
   "execution_count": 15,
   "metadata": {},
   "outputs": [],
   "source": [
    "# Get matplotlib plots to appear inline in the notebook\n",
    "%matplotlib inline\n",
    "\n",
    "# Import packages\n",
    "import matplotlib.pyplot as plt\n",
    "import numpy as np"
   ]
  },
  {
   "cell_type": "markdown",
   "metadata": {},
   "source": [
    "## Insertion sort "
   ]
  },
  {
   "cell_type": "markdown",
   "metadata": {},
   "source": [
    "Here is a visual reminder of how insertion sort works.\n",
    "\n",
    "<img src=\"https://raw.githubusercontent.com/melbournebioinformatics/COMP90014_2024/master/tutorials/media/week1/Insertion-sort-example.gif\" width=\"400\">\n"
   ]
  },
  {
   "cell_type": "markdown",
   "metadata": {},
   "source": [
    "<div style=\"font-size: 16px\">\n",
    "\n",
    "> ```python\n",
    "> # Source: A. Levitin, Introduction to the Design and Analysis of Algorithms, Pearson, 3rd edition, 2012\n",
    "> \n",
    "> ALGORITHM InsertionSort(A[0..n − 1])  \n",
    "> \n",
    ">     # Sorts a given array by insertion sort  \n",
    ">     # Input: An array A[0..n − 1] of n orderable elements  \n",
    ">     # Output: Array A[0..n − 1] sorted in nondecreasing order   \n",
    ">     \n",
    ">     for i ← 1 to n − 1 do  \n",
    ">         v ← A[i]  \n",
    ">         j←i−1  \n",
    ">         while j ≥ 0 and A[j ] > v do  \n",
    ">             A[j + 1] ← A[j ]  \n",
    ">             j←j−1   \n",
    ">         A[j + 1] ← v\n",
    "> \n",
    "> ```\n",
    "\n",
    "</div>"
   ]
  },
  {
   "cell_type": "markdown",
   "metadata": {},
   "source": [
    "Below is a python implementation. <br>\n",
    "This implementation sorts the list in-place, so the original list will also be modified."
   ]
  },
  {
   "cell_type": "code",
   "execution_count": 16,
   "metadata": {},
   "outputs": [],
   "source": [
    "def isort(items):\n",
    "    \"\"\"\n",
    "    Sort a list in-place using insertion sort\n",
    "    \"\"\"\n",
    "    # For each item in list from 2nd to final position\n",
    "    for index in range(1, len(items)):\n",
    "        # Store value of current index position\n",
    "        current_item = items[index]\n",
    "        # Check if current item value is smaller than the value to the left\n",
    "        # AND that there is an item to the left\n",
    "        while index >= 1 and (current_item < items[index - 1]):\n",
    "            # If item to the left is larger than current item move it up one position\n",
    "            items[index] = items[index - 1]\n",
    "            # Compare current item to item one MORE to the left on next loop\n",
    "            index -= 1\n",
    "        # Exit loop when current item is > than item to the left\n",
    "        # Overwrite index position with current item value\n",
    "        items[index] = current_item\n",
    "    return items"
   ]
  },
  {
   "cell_type": "markdown",
   "metadata": {},
   "source": [
    "<div class=\"info\">\n",
    "<b>Challenge:</b> Modify the isort() function above to print the partially sorted list on each pass and sort a reversed list.\n",
    "</div>"
   ]
  },
  {
   "cell_type": "code",
   "execution_count": 19,
   "metadata": {
    "nbgrader": {
     "grade": false,
     "grade_id": "cell-9a1bd1b41321ed3a",
     "locked": false,
     "schema_version": 3,
     "solution": true,
     "task": false
    }
   },
   "outputs": [],
   "source": [
    "def isort_mod(items):\n",
    "    \"\"\"\n",
    "    Sorts a list in-place using insertion sort.\n",
    "    \"\"\"\n",
    "    for index in range(1, len(items)):\n",
    "        # Store value of current index position\n",
    "        current_item = items[index]\n",
    "        # Check if current item value is smaller than the value to the left\n",
    "        # AND that there is an item to the left\n",
    "        while index >= 1 and (current_item < items[index - 1]):\n",
    "            # If item to the left is larger than current item move it up one position\n",
    "            items[index] = items[index - 1]\n",
    "            # Compare current item to item one MORE to the left on next loop\n",
    "            index -= 1\n",
    "        # Exit loop when current item is > than item to the left\n",
    "        # Overwrite index position with current item value\n",
    "        items[index] = current_item\n",
    "    return items"
   ]
  },
  {
   "cell_type": "code",
   "execution_count": null,
   "metadata": {},
   "outputs": [
    {
     "data": {
      "text/plain": [
       "[1, 2, 3, 4, 5, 6, 7, 8, 9, 10]"
      ]
     },
     "execution_count": 20,
     "metadata": {},
     "output_type": "execute_result"
    }
   ],
   "source": [
    "# Now use your modified function to sort a reversed list and observe the changes with each iteration of the main loop\n",
    "revlist = [10,9,8,7,6,5,4,3,2,1]\n",
    "isort_mod(revlist)"
   ]
  },
  {
   "cell_type": "markdown",
   "metadata": {},
   "source": [
    "# Testing time complexity"
   ]
  },
  {
   "cell_type": "markdown",
   "metadata": {},
   "source": [
    "We've written some functions below that create lists with different properties. <br>\n",
    "Execute the following cell so that your python kernel knows about them. "
   ]
  },
  {
   "cell_type": "code",
   "execution_count": null,
   "metadata": {},
   "outputs": [],
   "source": [
    "def sorted_list(N):\n",
    "    \"\"\"Creates a list of N integers that is already sorted.\"\"\"\n",
    "    return list(range(N))\n",
    "\n",
    "def reversed_list(N):\n",
    "    \"\"\"Creates a list of N integers, sorted in reversed order.\"\"\"\n",
    "    return sorted_list(N)[::-1]\n",
    "\n",
    "def random_list(N):\n",
    "    \"\"\"Creates a list of N integers, shuffled randomly.\"\"\"\n",
    "    items = sorted_list(N)\n",
    "    np.random.shuffle(items)\n",
    "    return items"
   ]
  },
  {
   "cell_type": "code",
   "execution_count": null,
   "metadata": {},
   "outputs": [
    {
     "data": {
      "text/plain": [
       "[0, 1, 2, 3, 4, 5, 6, 7, 8, 9]"
      ]
     },
     "execution_count": 22,
     "metadata": {},
     "output_type": "execute_result"
    }
   ],
   "source": [
    "sorted_list(10)"
   ]
  },
  {
   "cell_type": "code",
   "execution_count": null,
   "metadata": {},
   "outputs": [
    {
     "data": {
      "text/plain": [
       "[9, 8, 7, 6, 5, 4, 3, 2, 1, 0]"
      ]
     },
     "execution_count": 23,
     "metadata": {},
     "output_type": "execute_result"
    }
   ],
   "source": [
    "reversed_list(10)"
   ]
  },
  {
   "cell_type": "code",
   "execution_count": null,
   "metadata": {},
   "outputs": [
    {
     "data": {
      "text/plain": [
       "[5, 6, 7, 0, 9, 1, 4, 2, 3, 8]"
      ]
     },
     "execution_count": 24,
     "metadata": {},
     "output_type": "execute_result"
    }
   ],
   "source": [
    "random_list(10)"
   ]
  },
  {
   "cell_type": "markdown",
   "metadata": {},
   "source": [
    "Let's test the performance of insertion sort using Jupyter's `%timeit` magic. We'll make the list outside the timed cell, as we don't want to time the creation."
   ]
  },
  {
   "cell_type": "code",
   "execution_count": 31,
   "metadata": {},
   "outputs": [
    {
     "name": "stdout",
     "output_type": "stream",
     "text": [
      "399 ns ± 0.636 ns per loop (mean ± std. dev. of 7 runs, 1,000,000 loops each)\n"
     ]
    }
   ],
   "source": [
    "items = random_list(10)\n",
    "%timeit isort(items)"
   ]
  },
  {
   "cell_type": "markdown",
   "metadata": {},
   "source": [
    "On a bigger list:"
   ]
  },
  {
   "cell_type": "code",
   "execution_count": 32,
   "metadata": {},
   "outputs": [
    {
     "name": "stdout",
     "output_type": "stream",
     "text": [
      "48.8 μs ± 573 ns per loop (mean ± std. dev. of 7 runs, 10,000 loops each)\n"
     ]
    }
   ],
   "source": [
    "items = random_list(1000)\n",
    "%timeit isort(items)"
   ]
  },
  {
   "cell_type": "markdown",
   "metadata": {},
   "source": [
    "Here's a helper function called `time_sort()` that you can use to time a sort function once you've written it, and plot the results. <br>\n",
    "We'll use this to assess the performance of our python `isort()` insertion sort implementation on different inputs. "
   ]
  },
  {
   "cell_type": "code",
   "execution_count": 33,
   "metadata": {},
   "outputs": [],
   "source": [
    "import builtins\n",
    "from timeit import timeit\n",
    "from IPython.core.getipython import get_ipython\n",
    "\n",
    "def time_sort(sort_function, input_list):\n",
    "    \"\"\"\n",
    "    Times a sort function on a given input list using timeit.\n",
    "    Makes use of a global variable unsorted_list, which will be overwritten.\n",
    "    Assumes we are being called from an IPython/Jupyter context and adds the\n",
    "    IPython namespace to the local namespace.\n",
    "    \"\"\"\n",
    "    builtins.__dict__.update(get_ipython().__dict__['user_ns'])\n",
    "    global unsorted_list\n",
    "    unsorted_list = input_list\n",
    "    num_runs = 1000\n",
    "    command = \"{}(unsorted_list)\".format(sort_function.__name__)\n",
    "    return timeit(command, globals=globals(), number=num_runs)/num_runs"
   ]
  },
  {
   "cell_type": "markdown",
   "metadata": {},
   "source": [
    "Run the cell below to visualise our `isort()` function's runtime performance with different inputs.\n",
    "\n",
    "Here we're looking at performance when...\n",
    "- The input list is already sorted\n",
    "- The input list is random\n",
    "- The input list is reverse sorted\n",
    "\n",
    "For each of these situations, we will run the `isort()` function many times, each time increasing the number of items in the list. \n"
   ]
  },
  {
   "cell_type": "code",
   "execution_count": 34,
   "metadata": {},
   "outputs": [
    {
     "data": {
      "image/png": "[encoded data removed]",
      "text/plain": [
       "<Figure size 640x480 with 1 Axes>"
      ]
     },
     "metadata": {},
     "output_type": "display_data"
    }
   ],
   "source": [
    "n_items = list(range(10,5000,200))\n",
    "funcs = [sorted_list, random_list, reversed_list]\n",
    "colors = ['green', 'yellow', 'red']\n",
    "\n",
    "for func, color in zip(funcs, colors):\n",
    "    data = []\n",
    "    for n in n_items:\n",
    "        the_input = func(n)\n",
    "        time_taken = time_sort(isort, the_input)\n",
    "        data.append(time_taken)\n",
    "    plt.plot(n_items, data, c=color, label=func.__name__)\n",
    "\n",
    "plt.legend()\n",
    "plt.show()"
   ]
  },
  {
   "cell_type": "markdown",
   "metadata": {},
   "source": [
    "## Selection sort \n",
    "\n",
    "The selection sort algorithm similar to the insertion sort algorithm discussed in lectures, but even simpler to implement. \n",
    "\n",
    "<img src=\"https://raw.githubusercontent.com/melbournebioinformatics/COMP90014_2024/master/tutorials/media/week1/selection_sort.gif\" width=\"400\">\n",
    "\n",
    "Here is a version of the algorithm in words:\n",
    "\n",
    "1. Initialise the sorted list as an empty list\n",
    "2. Search the original list for the smallest element\n",
    "3. Remove this element from the original list and insert it at the end of the sorted list \n",
    "4. Repeat from step 2 until the unsorted list is empty\n",
    "\n",
    "Since we built the sorted list from the smallest to the largest element, we can just add each new element on to the end."
   ]
  },
  {
   "cell_type": "markdown",
   "metadata": {},
   "source": [
    "<div class=\"info\">\n",
    "\n",
    "<b>Challenge:</b> Implement selection sort below. \n",
    "\n",
    "</div>"
   ]
  },
  {
   "cell_type": "code",
   "execution_count": 35,
   "metadata": {
    "nbgrader": {
     "grade": false,
     "grade_id": "cell-0e166a7e1b462fa7",
     "locked": false,
     "schema_version": 3,
     "solution": true,
     "task": false
    }
   },
   "outputs": [],
   "source": [
    "def selection_sort(unsorted):\n",
    "    \"\"\"\n",
    "    Sorts a list using selection sort\n",
    "    \"\"\"\n",
    "    sorted_list = []    \n",
    "    \n",
    "    # while the unsorted list is not exhausted\n",
    "    while len(unsorted) > 0:\n",
    "        \n",
    "        # find the smallest item in the remaining list.\n",
    "        # if a value is smaller than the current, update min_index. \n",
    "        min_index = 0\n",
    "        for index in range(1, len(unsorted)):\n",
    "            if unsorted[index] < unsorted[min_index]:\n",
    "                min_index = index\n",
    "\n",
    "        # remove the smallest item from unsorted list & add to the sorted list.\n",
    "        item = unsorted.pop(min_index)\n",
    "        sorted_list.append(item)\n",
    "    \n",
    "    return sorted_list"
   ]
  },
  {
   "cell_type": "code",
   "execution_count": 36,
   "metadata": {},
   "outputs": [
    {
     "name": "stdout",
     "output_type": "stream",
     "text": [
      "[3, 3, 4, 5, 7, 22]\n"
     ]
    }
   ],
   "source": [
    "x = [5,3,7,22,4,3]\n",
    "print(selection_sort(x))\n",
    "assert selection_sort(x) == sorted(x)"
   ]
  },
  {
   "cell_type": "markdown",
   "metadata": {},
   "source": [
    "\n",
    "<br>\n",
    "\n",
    "-----------------\n",
    "\n",
    "# Extension Activity: Merge Sort\n",
    "\n",
    "This section is optional. \n",
    "\n",
    "In this section we will complete a partially-coded implementation of merge sort. \n",
    "\n",
    "Here is a reminder for the merge sort algorithm\n",
    "\n",
    "<img src=\"https://raw.githubusercontent.com/melbournebioinformatics/COMP90014_2024/master/tutorials/media/week1/merge_sort_2.gif\" width=\"400\">"
   ]
  },
  {
   "cell_type": "markdown",
   "metadata": {},
   "source": [
    "Here is the merge sort code given in lectures:"
   ]
  },
  {
   "cell_type": "code",
   "execution_count": 37,
   "metadata": {},
   "outputs": [],
   "source": [
    "def msort(items):\n",
    "    len_list = len(items)\n",
    "    if len_list <= 1:\n",
    "        return items\n",
    "    else:\n",
    "        mid_point = len_list//2\n",
    "        top = items[:mid_point]\n",
    "        bottom = items[mid_point:]\n",
    "        return merge(msort(top), msort(bottom))"
   ]
  },
  {
   "cell_type": "markdown",
   "metadata": {},
   "source": [
    "This function won't work yet because it depends on a `merge()` function, which we haven't defined."
   ]
  },
  {
   "cell_type": "markdown",
   "metadata": {},
   "source": [
    "<div class=\"info\">\n",
    "    <b>Challenge:</b> Write a merge function to merge two lists. Assume both lists are already sorted, and ensure that the resulting list is sorted.\n",
    "</div>"
   ]
  },
  {
   "cell_type": "code",
   "execution_count": 38,
   "metadata": {
    "nbgrader": {
     "grade": false,
     "grade_id": "cell-e7698cabe9daea81",
     "locked": false,
     "schema_version": 3,
     "solution": true,
     "task": false
    }
   },
   "outputs": [],
   "source": [
    "def merge(list1, list2):\n",
    "    \"\"\"\n",
    "    merges two sorted lists into a single sorted list. \n",
    "    \"\"\"\n",
    "\n",
    "    merged = []\n",
    "    \n",
    "    # create variables which point to the active item in each input list. \n",
    "    ptr1, ptr2 = 0, 0\n",
    "    \n",
    "    # loop until we reach the end of *either* list.\n",
    "    # eg if we reach the end of list1, we can just append the remaining \n",
    "    # items in list2 & be done.\n",
    "    while ptr1 < len(list1) and ptr2 < len(list2):\n",
    "\n",
    "        # check which active item is smaller & should be added next.\n",
    "        # after adding, need to advance pointer for that list. \n",
    "        if list1[ptr1] < list2[ptr2]:\n",
    "            merged.append(list1[ptr1])\n",
    "            ptr1 += 1\n",
    "        else:\n",
    "            merged.append(list2[ptr2])\n",
    "            ptr2 += 1\n",
    "        \n",
    "    # Append remaining elements of list1, if any\n",
    "    while ptr1 < len(list1):\n",
    "        merged.append(list1[ptr1])\n",
    "        ptr1 += 1\n",
    "        \n",
    "    # Append remaining elements of list2, if any\n",
    "    while ptr2 < len(list2):\n",
    "        merged.append(list2[ptr2])\n",
    "        ptr2 += 1\n",
    "\n",
    "    return merged\n"
   ]
  },
  {
   "cell_type": "code",
   "execution_count": 39,
   "metadata": {},
   "outputs": [
    {
     "name": "stdout",
     "output_type": "stream",
     "text": [
      "[2, 4, 6, 6, 9, 20, 21]\n"
     ]
    }
   ],
   "source": [
    "# Test your merge function\n",
    "x1 = [4,6,9]\n",
    "x2 = [2,6,20,21]\n",
    "print(merge(x1,x2))\n",
    "assert merge(x1,x2) == [2,4,6,6,9,20,21]"
   ]
  },
  {
   "cell_type": "markdown",
   "metadata": {},
   "source": [
    "Once you have `merge()` working, `msort()` should work correctly:"
   ]
  },
  {
   "cell_type": "code",
   "execution_count": 40,
   "metadata": {},
   "outputs": [
    {
     "name": "stdout",
     "output_type": "stream",
     "text": [
      "[3, 3, 4, 5, 7, 22]\n"
     ]
    }
   ],
   "source": [
    "x = [5,3,7,22,4,3]\n",
    "print(msort(x))\n",
    "assert msort(x) == sorted(x)"
   ]
  }
 ],
 "metadata": {
  "celltoolbar": "Create Assignment",
  "kernelspec": {
   "display_name": "Python 3 (ipykernel)",
   "language": "python",
   "name": "python3"
  },
  "language_info": {
   "codemirror_mode": {
    "name": "ipython",
    "version": 3
   },
   "file_extension": ".py",
   "mimetype": "text/x-python",
   "name": "python",
   "nbconvert_exporter": "python",
   "pygments_lexer": "ipython3",
   "version": "3.12.4"
  }
 },
 "nbformat": 4,
 "nbformat_minor": 4
}
