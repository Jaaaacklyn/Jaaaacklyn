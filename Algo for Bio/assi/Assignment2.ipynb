{
  "cells": [
    {
      "cell_type": "markdown",
      "metadata": {
        "id": "view-in-github",
        "colab_type": "text"
      },
      "source": [
        "<a href=\"https://colab.research.google.com/github/Jaaaacklyn/Jaaaacklyn/blob/main/Assignment2.ipynb\" target=\"_parent\"><img src=\"https://colab.research.google.com/assets/colab-badge.svg\" alt=\"Open In Colab\"/></a>"
      ]
    },
    {
      "cell_type": "markdown",
      "id": "c68b3eb9-49e8-4c28-aaa7-c14ced76cd76",
      "metadata": {
        "deletable": false,
        "editable": false,
        "nbgrader": {
          "cell_type": "markdown",
          "checksum": "fe3fce75603e343bbd7e30aa2b646f72",
          "grade": false,
          "grade_id": "cell-0034984b4411f615",
          "locked": true,
          "schema_version": 3,
          "solution": false,
          "task": false
        },
        "tags": [],
        "id": "c68b3eb9-49e8-4c28-aaa7-c14ced76cd76"
      },
      "source": [
        "# COMP90014 Assignment 2\n",
        "### Semester 2, 2024\n",
        "Version 1.0 Last edited 28/08/2024."
      ]
    },
    {
      "cell_type": "code",
      "execution_count": null,
      "id": "dab99270-e7fe-48dc-92a3-bf4e9f7c6d42",
      "metadata": {
        "tags": [],
        "id": "dab99270-e7fe-48dc-92a3-bf4e9f7c6d42"
      },
      "outputs": [],
      "source": [
        "### Fill in your student details here\n",
        "NAME = \"Ching-Yi Peng\"\n",
        "ID = \"1545824\""
      ]
    },
    {
      "cell_type": "markdown",
      "id": "d899cb8a-cdae-4cc9-b2c3-285fb1f22d75",
      "metadata": {
        "deletable": false,
        "editable": false,
        "nbgrader": {
          "cell_type": "markdown",
          "checksum": "a000fee34c41e308dff1d8a625a89a80",
          "grade": false,
          "grade_id": "cell-e2a8992a76a3a009",
          "locked": true,
          "schema_version": 3,
          "solution": false,
          "task": false
        },
        "tags": [],
        "id": "d899cb8a-cdae-4cc9-b2c3-285fb1f22d75"
      },
      "source": [
        "## Completing the assignment\n",
        "\n",
        "***Academic integrity***\n",
        "\n",
        "This assignment should be completed by each student individually. <br>\n",
        "Make sure you read this entire document, and ask for help if anything is not clear. <br>\n",
        "Any changes or clarifications to this document will be announced via the LMS. <br>\n",
        "\n",
        "Please make sure you review the University's rules on academic honesty and plagiarism: https://academichonesty.unimelb.edu.au/\n",
        "\n",
        "Do not copy any code from other students or from the internet. This is considered plagiarism.\n",
        "\n",
        "***Completing the assignment & submission***\n",
        "\n",
        "To complete the assignment, finish the coding and short answer tasks in this notebook.<br>\n",
        "You are free to use any IDE to work on the assignment, but only use jupyter to prepare your final submission (ensures compatability with grading software). <br>\n",
        "Please do not copy or delete cells in this notebook, as this may interrupt the autograding of hidden tests. <br>\n",
        "Your completed notebook file containing all your answers will be turned in via LMS. Please also submit an HTML file.\n",
        "\n",
        "***Visible & hidden tests***\n",
        "\n",
        "In some cases, we have provided test input and test output that you can use to try out your solutions. <br>\n",
        "These are visible tests and serve to warn you if you've made a mistake but are **not** exhaustive.\n",
        "\n",
        "During assessment, there are also hidden tests we run to validate your code. <br>\n",
        "As you won't see the hidden tests, it's up to you to decide whether your code is correct.\n",
        "\n",
        "**Remember to save your work early and often.**"
      ]
    },
    {
      "cell_type": "markdown",
      "id": "0a747875-32ad-4a2a-ad36-f945eafed6a6",
      "metadata": {
        "deletable": false,
        "editable": false,
        "nbgrader": {
          "cell_type": "markdown",
          "checksum": "7106f88553ec9b266052b3408459e0d1",
          "grade": false,
          "grade_id": "cell-414c4bc2cf001a56",
          "locked": true,
          "schema_version": 3,
          "solution": false,
          "task": false
        },
        "tags": [],
        "id": "0a747875-32ad-4a2a-ad36-f945eafed6a6"
      },
      "source": [
        "## Submission\n",
        "\n",
        "Only use jupyter to prepare your final submission. This ensures compatability with our grading software. <br>\n",
        "\n",
        "Make sure you have filled in any place that says `# -- GRADED CELL (N marks) - complete this cell --`.\n",
        "\n",
        "Before you turn this assignment in, make sure everything runs as expected, and the output is cleared.\n",
        "\n",
        "First, **restart the kernel**:\n",
        "\n",
        "- In the menubar, select Kernel -> Restart.\n",
        "\n",
        "Next, **run all cells**:\n",
        "\n",
        "- In the menubar, select Cell -> Run All.\n",
        "\n",
        "Finally, **clear all output**:\n",
        "\n",
        "- In the menubar, select Options -> Clear All Outputs\n",
        "\n",
        "Your completed notebook file containing all your answers must be turned in via LMS in `.ipynb` format. <br>\n",
        "You must also submit a copy of this notebook in `html` format with the output cleared.\n",
        "\n",
        "Your submission should include **only two** files with names formatted as: **Assignment2.ipynb** and **Assignment2.html**\n",
        "\n"
      ]
    },
    {
      "cell_type": "markdown",
      "id": "7a6b62fa-7d7b-4583-bd93-199adf594720",
      "metadata": {
        "deletable": false,
        "editable": false,
        "nbgrader": {
          "cell_type": "markdown",
          "checksum": "991b7dfa905b44fcf3e16127a492aa00",
          "grade": false,
          "grade_id": "cell-ec68e69bdd833434",
          "locked": true,
          "schema_version": 3,
          "solution": false,
          "task": false
        },
        "tags": [],
        "id": "7a6b62fa-7d7b-4583-bd93-199adf594720"
      },
      "source": [
        "<div style=\"background: rgb(255,165,0); border: solid 1px rgb(129,199,132); padding: 10px;\">    \n",
        "\n",
        "<h1>Assignment 2</h1>\n",
        "\n",
        "<h2>Evolutionary Tree Building</h2>\n",
        "\n",
        "</div>"
      ]
    },
    {
      "cell_type": "markdown",
      "id": "71eef33d-f0b3-45d0-894c-809792aed55a",
      "metadata": {
        "deletable": false,
        "editable": false,
        "nbgrader": {
          "cell_type": "markdown",
          "checksum": "32fac1a493bb24945acc1a3ca7e5a472",
          "grade": false,
          "grade_id": "cell-ea688042ddc2a941",
          "locked": true,
          "schema_version": 3,
          "solution": false,
          "task": false
        },
        "tags": [],
        "id": "71eef33d-f0b3-45d0-894c-809792aed55a"
      },
      "source": [
        "<div style=\"color: rgb(0,0,0); background: #0096FF; border: solid 1px rgb(0,0,0); padding: 10px;\">\n",
        "\n",
        "<h1>SETUP AND DATA</h1>\n",
        "\n",
        "</div>\n"
      ]
    },
    {
      "cell_type": "markdown",
      "id": "a6b5aed6-2a1b-4b92-aa83-7ade830cca78",
      "metadata": {
        "deletable": false,
        "editable": false,
        "nbgrader": {
          "cell_type": "markdown",
          "checksum": "bb6ed547961b2ddcad3a8840a837c965",
          "grade": false,
          "grade_id": "cell-ba7d556c5fd4d14d",
          "locked": true,
          "schema_version": 3,
          "solution": false,
          "task": false
        },
        "tags": [],
        "id": "a6b5aed6-2a1b-4b92-aa83-7ade830cca78"
      },
      "source": [
        "### Networkx Tutorial\n",
        "\n",
        "Assignment 2 heavily uses the networkx package.\n",
        "\n",
        "For your reference, a networkx tutorial has been made available at https://github.com/melbournebioinformatics/COMP90014_2024/blob/master/assignments/src/A2tutorial.ipynb.<br>\n",
        "The notebook linked above discusses nodes, edges, how to create graphs, and how to store & retrieve data on nodes/edges.\n"
      ]
    },
    {
      "cell_type": "markdown",
      "id": "8b81059d-25b7-4454-bbc3-4e755d0c28a6",
      "metadata": {
        "deletable": false,
        "editable": false,
        "nbgrader": {
          "cell_type": "markdown",
          "checksum": "7480967952d33032f449936e21165e4f",
          "grade": false,
          "grade_id": "cell-4ba38ce56169155d",
          "locked": true,
          "schema_version": 3,
          "solution": false,
          "task": false
        },
        "tags": [],
        "id": "8b81059d-25b7-4454-bbc3-4e755d0c28a6"
      },
      "source": [
        "## Marking\n",
        "\n",
        "***Graded cells***\n",
        "\n",
        "Cells that must be completed to receive marks are clearly labelled with the following text:\n",
        "\n",
        "`# -- GRADED CELL (N marks) - complete this cell --`\n",
        "\n",
        "Only add answers to these cells.\n",
        "\n",
        "Some cells are code cells, in which you must complete the code to solve a problem. <br>\n",
        "Others are markdown cells, in which you must write your answers to short-answer questions.\n",
        "\n",
        "***Completing code cells***\n",
        "\n",
        "You will see the following text in graded code cells.\n",
        "\n",
        "``` python\n",
        "raise NotImplementedError()\n",
        "```\n",
        "\n",
        "You must remove the `raise NotImplementedError()` line from the cell, and replace it with your solution. <br>\n",
        "If you want to import a library or use a helper function, the import statements must be inside the function for that question. <br>\n",
        "For example:\n",
        "    \n",
        "``` python\n",
        "# -- GRADED CELL (1 mark) - complete this cell --\n",
        "\n",
        "def question1(param1: str, param2: int) -> float:\n",
        "    from collections import defaultdict\n",
        "```\n",
        "\n",
        "Include code comments in your solutions! <br>\n",
        "Well commented code can help you to receive partial marks even if the final solution is incorrect.\n",
        "\n",
        "***Editing the notebook***\n",
        "\n",
        "Only graded cells will be marked.\n",
        "- Do **NOT** enter solutions outside of graded cells\n",
        "- Do **NOT** duplicate or remove cells from the notebook\n",
        "- You may add new cells to test code, but new cells will not be graded.\n",
        "- Word limits, where stated, will be strictly enforced. Answers exceeding the limit **will not be marked**.\n",
        "\n",
        "***Marks***\n",
        "\n",
        "The total marks for the assignment add up to 15. <br>\n",
        "This assignment will be worth 15% of your overall subject grade.\n",
        "\n"
      ]
    },
    {
      "cell_type": "markdown",
      "id": "57f13375-a1de-43f8-bc23-535875b53453",
      "metadata": {
        "deletable": false,
        "editable": false,
        "nbgrader": {
          "cell_type": "markdown",
          "checksum": "5d16c054ad5ce8a0e5daf7d463e1b6e3",
          "grade": false,
          "grade_id": "cell-393fd06dbbe44b99",
          "locked": true,
          "schema_version": 3,
          "solution": false,
          "task": false
        },
        "tags": [],
        "id": "57f13375-a1de-43f8-bc23-535875b53453"
      },
      "source": [
        "### Acquire Datasets\n",
        "\n",
        "The following files are required to complete this assignment.\n",
        "- https://github.com/melbournebioinformatics/COMP90014_2024/raw/master/assignments/data/trie.pkl\n",
        "- https://github.com/melbournebioinformatics/COMP90014_2024/raw/master/assignments/data/ebola_glycoproteins.fasta\n",
        "- https://github.com/melbournebioinformatics/COMP90014_2024/raw/master/assignments/data/ebola_glycoproteins_MSA.fasta\n",
        "\n",
        "Download these and place in a subfolder called <small>`data/`</small>.<br>\n",
        "Run the cell below to confirm they are in the expected location.\n"
      ]
    },
    {
      "cell_type": "code",
      "source": [
        "ls data"
      ],
      "metadata": {
        "id": "mJUfGM0T5vDc"
      },
      "id": "mJUfGM0T5vDc",
      "execution_count": null,
      "outputs": []
    },
    {
      "cell_type": "code",
      "execution_count": null,
      "id": "b695d625-75b9-4486-94de-6931bf1bbb6e",
      "metadata": {
        "tags": [],
        "id": "b695d625-75b9-4486-94de-6931bf1bbb6e"
      },
      "outputs": [],
      "source": [
        "TRIE_FILEPATH = 'data/trie.pkl'\n",
        "EBOLA_SEQS_FILEPATH = \"data/ebola_glycoproteins.fasta\"\n",
        "EBOLA_MSA_FILEPATH = \"data/ebola_glycoproteins_MSA.fasta\"\n",
        "\n",
        "import os\n",
        "for filepath in [TRIE_FILEPATH, EBOLA_SEQS_FILEPATH, EBOLA_MSA_FILEPATH]:\n",
        "    if os.path.exists(filepath):\n",
        "        print(f'found {filepath}')\n",
        "    else:\n",
        "        print(f'error {filepath}')\n"
      ]
    },
    {
      "cell_type": "markdown",
      "id": "585ba8c7-49c7-4a6f-bd08-756b4c1b1559",
      "metadata": {
        "deletable": false,
        "editable": false,
        "nbgrader": {
          "cell_type": "markdown",
          "checksum": "68495f76c872e374dce96a226d5e12e1",
          "grade": false,
          "grade_id": "cell-d71e01c9ffcbb558",
          "locked": true,
          "schema_version": 3,
          "solution": false,
          "task": false
        },
        "tags": [],
        "id": "585ba8c7-49c7-4a6f-bd08-756b4c1b1559"
      },
      "source": [
        "### Acquire Helper Functions\n",
        "\n",
        "The following python files are required to complete this assignment.\n",
        "- https://github.com/melbournebioinformatics/COMP90014_2024/raw/master/assignments/src/A2utils.py\n",
        "\n",
        "Place this in the **same folder** as your Assignment2.ipynb notebook. <br>\n",
        "Run the cell below to check it can be imported."
      ]
    },
    {
      "cell_type": "code",
      "execution_count": null,
      "id": "32e52b61-d913-4c5f-90c8-df04d4591400",
      "metadata": {
        "tags": [],
        "id": "32e52b61-d913-4c5f-90c8-df04d4591400"
      },
      "outputs": [],
      "source": [
        "import A2utils"
      ]
    },
    {
      "cell_type": "markdown",
      "id": "56bf914b-c3ec-4a96-be6f-e11b4d76f043",
      "metadata": {
        "deletable": false,
        "editable": false,
        "nbgrader": {
          "cell_type": "markdown",
          "checksum": "3e7af4c9627cb7a55423300f021d1e3b",
          "grade": false,
          "grade_id": "cell-60a4a2f38be15b84",
          "locked": true,
          "schema_version": 3,
          "solution": false,
          "task": false
        },
        "tags": [],
        "id": "56bf914b-c3ec-4a96-be6f-e11b4d76f043"
      },
      "source": [
        "### Load Packages\n",
        "\n",
        "For this assignment you may need to install some packages.<br>\n",
        "We advise you use python venv to create an environment for Assignment2, and install packages using pip."
      ]
    },
    {
      "cell_type": "code",
      "source": [
        "!pip install A2utils\n",
        "!pip install Biopython"
      ],
      "metadata": {
        "id": "JyTFszw3oGnr"
      },
      "id": "JyTFszw3oGnr",
      "execution_count": null,
      "outputs": []
    },
    {
      "cell_type": "code",
      "execution_count": null,
      "id": "93ba1cf4-41da-455a-957d-f0047399b6cc",
      "metadata": {
        "tags": [],
        "id": "93ba1cf4-41da-455a-957d-f0047399b6cc"
      },
      "outputs": [],
      "source": [
        "import networkx as nx\n",
        "import pickle\n",
        "import Bio\n",
        "import matplotlib.pyplot as plt\n",
        "import A2utils\n",
        "import warnings\n",
        "warnings.filterwarnings('ignore')\n"
      ]
    },
    {
      "cell_type": "markdown",
      "id": "4b073e72",
      "metadata": {
        "deletable": false,
        "editable": false,
        "nbgrader": {
          "cell_type": "markdown",
          "checksum": "65f2971c1373471eebd2f0b0014ef5f3",
          "grade": false,
          "grade_id": "cell-24cc7fae39fbee4d",
          "locked": true,
          "schema_version": 3,
          "solution": false,
          "task": false
        },
        "tags": [],
        "id": "4b073e72"
      },
      "source": [
        "\n",
        "<div style=\"color: rgb(0,0,0); background: #0096FF; border: solid 1px rgb(0,0,0); padding: 10px;\">\n",
        "\n",
        "<h2>Section A: Trees and Suffix Tries</h2>\n",
        "\n",
        "</div>"
      ]
    },
    {
      "cell_type": "markdown",
      "id": "048a9e69",
      "metadata": {
        "deletable": false,
        "editable": false,
        "nbgrader": {
          "cell_type": "markdown",
          "checksum": "2a6da8a10b00d59d2b543f4bc163f717",
          "grade": false,
          "grade_id": "cell-7b0ef3df5523baad",
          "locked": true,
          "schema_version": 3,
          "solution": false,
          "task": false
        },
        "tags": [],
        "id": "048a9e69"
      },
      "source": [
        "## Question 1 (warm-up)\n",
        "\n",
        "This question is a warm-up to get familiar with networkx. <br>\n",
        "Your task is to generate a networkx graph which represents the following tree.\n",
        "\n",
        "<img src=\"https://raw.githubusercontent.com/melbournebioinformatics/COMP90014_2024/master/assignments/media/graph1.png\" width=\"300\">"
      ]
    },
    {
      "cell_type": "markdown",
      "id": "a7a5321b",
      "metadata": {
        "deletable": false,
        "editable": false,
        "nbgrader": {
          "cell_type": "markdown",
          "checksum": "9d2c6780aae7d463696e8462c38b76df",
          "grade": false,
          "grade_id": "cell-2d53490b6ec5a89a",
          "locked": true,
          "schema_version": 3,
          "solution": false,
          "task": false
        },
        "tags": [],
        "id": "a7a5321b"
      },
      "source": [
        "<div style=\"color: rgb(27,94,32); background: rgb(200,230,201); border: solid 1px rgb(129,199,132); padding: 10px;\">\n",
        "<h3>Question 1</h3>\n",
        "\n",
        "<b>Challenge:</b> Write a function which generates the tree above using networkx. <br>\n",
        "   \n",
        "- [ ] Ouput: networkx graph object representing the data\n",
        "\n",
        "Build the tree by adding nodes and/or edges to a graph. <br>\n",
        "For this question, any data on nodes/edges should be added as an attribute named `\"label\"`.\n",
        "\n",
        "A util function called `A2utils.draw_generic_tree()` has been provided in the testing cell. <br>\n",
        "A visual inspection of the tree will be the 'test' for this question. <br>\n",
        "\n",
        "</div>\n"
      ]
    },
    {
      "cell_type": "code",
      "execution_count": null,
      "id": "d357db8d",
      "metadata": {
        "deletable": false,
        "nbgrader": {
          "cell_type": "code",
          "checksum": "ec7b243f7c35ee4b43ee2d92e7730934",
          "grade": false,
          "grade_id": "cell-119aa8761db6ca27",
          "locked": false,
          "schema_version": 3,
          "solution": true,
          "task": false
        },
        "tags": [],
        "id": "d357db8d"
      },
      "outputs": [],
      "source": [
        "# -- GRADED CELL (1 mark) - complete this cell --\n",
        "\n",
        "def generate_tree() -> nx.DiGraph:\n",
        "    \"\"\"returns a specified tree using networkx\"\"\"\n",
        "\n",
        "    # Initialize a directed graph\n",
        "    tree = nx.DiGraph()\n",
        "\n",
        "    # Add nodes with labels\n",
        "    tree.add_node('A', label = 'A')\n",
        "    tree.add_node('B', label = 'B')\n",
        "    tree.add_node('C', label = 'C')\n",
        "    tree.add_node('D', label = 'D')\n",
        "    tree.add_node('E', label = 'E')\n",
        "    tree.add_node('F', label = 'F')\n",
        "    tree.add_node('G', label = 'G')\n",
        "    tree.add_node('H', label = 'H')\n",
        "    tree.add_node('I', label = 'I')\n",
        "\n",
        "    # Add edges to define the tree structure\n",
        "    tree.add_edge('F', 'B', weight = 1)\n",
        "    tree.add_edge('F', 'G', weight = 1)\n",
        "    tree.add_edge('B', 'A', weight = 1)\n",
        "    tree.add_edge('B', 'D', weight = 1)\n",
        "    tree.add_edge('D', 'C', label = '1', weight = 1)\n",
        "    tree.add_edge('D', 'E', label = '2', weight = 2)\n",
        "    tree.add_edge('G', 'I', weight = 1)\n",
        "    tree.add_edge('I', 'H', label = '3', weight = 1)\n",
        "\n",
        "    return tree"
      ]
    },
    {
      "cell_type": "code",
      "execution_count": null,
      "id": "ccd32f37",
      "metadata": {
        "id": "ccd32f37"
      },
      "outputs": [],
      "source": [
        "# extra code cell for development if needed\n"
      ]
    },
    {
      "cell_type": "code",
      "execution_count": null,
      "id": "358e3631",
      "metadata": {
        "deletable": false,
        "editable": false,
        "nbgrader": {
          "cell_type": "code",
          "checksum": "64535eda48e216dd89c5052a3cf29bc0",
          "grade": true,
          "grade_id": "cell-039133a501e59eca",
          "locked": true,
          "points": 1,
          "schema_version": 3,
          "solution": false,
          "task": false
        },
        "tags": [],
        "id": "358e3631"
      },
      "outputs": [],
      "source": [
        "# Testing cell - Do not alter.\n",
        "T = generate_tree()\n",
        "A2utils.draw_generic_tree(T)\n"
      ]
    },
    {
      "cell_type": "markdown",
      "id": "55a13b8f",
      "metadata": {
        "deletable": false,
        "editable": false,
        "nbgrader": {
          "cell_type": "markdown",
          "checksum": "e37961f001f7a17e95ecd6338a20c85f",
          "grade": false,
          "grade_id": "cell-ad87e6805fb3505c",
          "locked": true,
          "schema_version": 3,
          "solution": false,
          "task": false
        },
        "tags": [],
        "id": "55a13b8f"
      },
      "source": [
        "\n",
        "## Question 2\n",
        "\n",
        "In this question we will get familiar with traversing suffix tries (and trees in general).\n",
        "\n",
        "A pre-built suffix trie, built from the string `\"gattaca\"` is provided.\n",
        "\n",
        "In **2a**, we will write a helper function to help us traverse this trie. <br>\n",
        "In **2b**, the trie will be used to *query* whether a substring was present in the original string. <br>\n",
        "In **2c**, the trie will be used to *count* the number of occurances of a given substring.\n",
        "\n",
        "Our suffix trie is represented as a directed networkx.DiGraph. <br>\n",
        "The nodes have unique integer values which ***are not relevant.*** <br>\n",
        "The edges in the trie store suffix characters. The character is stored on the `\"label\"` attribute. <br>\n",
        "You can assume the terminator character is always `\"$\"`.\n",
        "\n",
        "> **Side note**<br>\n",
        "> The leaf nodes have been labelled with the position the suffix appeared in the original string. <br>\n",
        "> If interested, the data is stored as the 'pos' attribute for these nodes. <br>\n",
        "> This data is for illustration purposes only, and is not needed for any question.\n",
        "\n",
        "Run the cell below to view the suffix trie."
      ]
    },
    {
      "cell_type": "code",
      "execution_count": null,
      "id": "1149d57c",
      "metadata": {
        "tags": [],
        "id": "1149d57c"
      },
      "outputs": [],
      "source": [
        "trie = pickle.load(open(TRIE_FILEPATH, 'rb'))\n",
        "A2utils.draw_suffix_trie(trie)"
      ]
    },
    {
      "cell_type": "markdown",
      "id": "093179f5",
      "metadata": {
        "deletable": false,
        "editable": false,
        "nbgrader": {
          "cell_type": "markdown",
          "checksum": "62fb49a8621a61d1904759c15d090b4c",
          "grade": false,
          "grade_id": "cell-2159dfc5895be570",
          "locked": true,
          "schema_version": 3,
          "solution": false,
          "task": false
        },
        "tags": [],
        "id": "093179f5"
      },
      "source": [
        "<div style=\"color: rgb(27,94,32); background: rgb(200,230,201); border: solid 1px rgb(129,199,132); padding: 10px;\">\n",
        "<h3>Question 2a</h3>\n",
        "    \n",
        "<b>Challenge:</b> Write a function which will traverse down the trie 1 step.  \n",
        "    \n",
        "- [ ] Input: node (int); label (str); trie (networkx.DiGraph)\n",
        "- [ ] Ouput: child node (int)\n",
        "- [ ] If there is no valid child node, return None.\n",
        "\n",
        "The `node` parameter points to the node you are currently at. <br>\n",
        "To traverse down, you will need to get the edges from `node`, then check if any of these have the right `\"label\"`.\n",
        "\n",
        "</div>"
      ]
    },
    {
      "cell_type": "code",
      "execution_count": null,
      "id": "273778d0",
      "metadata": {
        "deletable": false,
        "nbgrader": {
          "cell_type": "code",
          "checksum": "eee3fafe6ea9ce4e878e336f4f06db32",
          "grade": false,
          "grade_id": "cell-11766f806e0d728b",
          "locked": false,
          "schema_version": 3,
          "solution": true,
          "task": false
        },
        "tags": [],
        "id": "273778d0"
      },
      "outputs": [],
      "source": [
        "# -- GRADED CELL (1 mark) - complete this cell --\n",
        "\n",
        "def traverse(node: int, label: str, trie: nx.DiGraph) -> int | None:\n",
        "    \"\"\"\n",
        "    For a given node, explores its edges to find whether an edge exists with the given label.\n",
        "    If it does, returns the connected node. Else, returns None.\n",
        "    \"\"\"\n",
        "\n",
        "    # Iterate over all outgoing edges from the current node\n",
        "    for _, target_node, edge_data in trie.out_edges(node, data=True):\n",
        "        # Check if the edge's label matches the given label\n",
        "        if edge_data.get('label') == label:\n",
        "            return target_node\n",
        "\n",
        "    # If no matching edge is found, return None\n",
        "    return None"
      ]
    },
    {
      "cell_type": "code",
      "execution_count": null,
      "id": "ba0bda51",
      "metadata": {
        "id": "ba0bda51"
      },
      "outputs": [],
      "source": [
        "# extra code cell for development if needed\n"
      ]
    },
    {
      "cell_type": "code",
      "execution_count": null,
      "id": "cc9d31ac",
      "metadata": {
        "deletable": false,
        "editable": false,
        "nbgrader": {
          "cell_type": "code",
          "checksum": "68d3816d298e6e0a27ec1ac1d63537be",
          "grade": true,
          "grade_id": "cell-8a23b2e57269803f",
          "locked": true,
          "points": 1,
          "schema_version": 3,
          "solution": false,
          "task": false
        },
        "tags": [],
        "id": "cc9d31ac"
      },
      "outputs": [],
      "source": [
        "# Testing cell - Do not alter.\n",
        "\n",
        "# Visible tests to check your code\n",
        "trie = pickle.load(open(TRIE_FILEPATH, 'rb'))\n",
        "\n",
        "# test1: get child from internal node=8 if edge exists labelled 'a'.\n",
        "print(f\"test1: expected=22, actual={traverse(16, 'a', trie)}\")\n",
        "# test2: get child from internal node=24 if edge exists labelled '$'.\n",
        "print(f\"test2: expected=25, actual={traverse(24, '$', trie)}\")\n",
        "# test3: no valid child node\n",
        "print(f\"test3: expected=None, actual={traverse(24, 'b', trie)}\")\n",
        "# test4: no valid child node\n",
        "print(f\"test4: expected=None, actual={traverse(25, 'c', trie)}\")\n"
      ]
    },
    {
      "cell_type": "markdown",
      "id": "1021958b",
      "metadata": {
        "deletable": false,
        "editable": false,
        "nbgrader": {
          "cell_type": "markdown",
          "checksum": "65677595eb225580253cc488579e484e",
          "grade": false,
          "grade_id": "cell-6b65e879562876cf",
          "locked": true,
          "schema_version": 3,
          "solution": false,
          "task": false
        },
        "tags": [],
        "id": "1021958b"
      },
      "source": [
        "<div style=\"color: rgb(27,94,32); background: rgb(200,230,201); border: solid 1px rgb(129,199,132); padding: 10px;\">\n",
        "<h3>Question 2b</h3>\n",
        "    \n",
        "<b>Challenge:</b> Write a function to check whether a query substring was present in the original text, using the trie.\n",
        "    \n",
        "- [ ] Input: substring (str); trie (networkx.DiGraph)\n",
        "- [ ] Ouput: True or False (bool)\n",
        "\n",
        "You will first need to identify which node is the 'root', then traverse from this location. <br>\n",
        "Use your `traverse` function from Question 2a to help you traverse the trie.\n",
        "\n",
        "</div>"
      ]
    },
    {
      "cell_type": "code",
      "execution_count": null,
      "id": "6a800144",
      "metadata": {
        "deletable": false,
        "nbgrader": {
          "cell_type": "code",
          "checksum": "a6236ef561cff9b1b86f4293d3989f5e",
          "grade": false,
          "grade_id": "cell-a932f97d543ba793",
          "locked": false,
          "schema_version": 3,
          "solution": true,
          "task": false
        },
        "tags": [],
        "id": "6a800144"
      },
      "outputs": [],
      "source": [
        "# -- GRADED CELL (2 marks) - complete this cell --\n",
        "\n",
        "def has_substring(substring: str, trie: nx.DiGraph) -> bool:\n",
        "    \"\"\"\n",
        "    returns whether a given substring is present using the suffix trie.\n",
        "    \"\"\"\n",
        "    # Find the root node, which is the node with no incoming edges\n",
        "    root_node = None\n",
        "    for node in trie.nodes:\n",
        "        if trie.in_degree(node) == 0:\n",
        "            root_node = node\n",
        "            break\n",
        "\n",
        "    if root_node is None:\n",
        "        raise ValueError\n",
        "\n",
        "    current_node = root_node\n",
        "\n",
        "    # Traverse through the trie using the substring characters\n",
        "    for char in substring:\n",
        "        current_node = traverse(current_node, char, trie)\n",
        "        if current_node is None:\n",
        "            return False  # If traverse returns None, the substring is not present\n",
        "\n",
        "    return True  # Successfully traversed all characters in the substring"
      ]
    },
    {
      "cell_type": "code",
      "execution_count": null,
      "id": "7ff9ec42",
      "metadata": {
        "id": "7ff9ec42"
      },
      "outputs": [],
      "source": [
        "# extra code cell for development if needed\n"
      ]
    },
    {
      "cell_type": "code",
      "execution_count": null,
      "id": "95ba4856",
      "metadata": {
        "deletable": false,
        "editable": false,
        "nbgrader": {
          "cell_type": "code",
          "checksum": "de4ae6bf5e43e791a2a517490e60b172",
          "grade": true,
          "grade_id": "cell-282223cb63c856b9",
          "locked": true,
          "points": 2,
          "schema_version": 3,
          "solution": false,
          "task": false
        },
        "tags": [],
        "id": "95ba4856"
      },
      "outputs": [],
      "source": [
        "# Testing cell - Do not alter.\n",
        "# Visible tests to check your code\n",
        "trie = pickle.load(open(TRIE_FILEPATH, 'rb'))\n",
        "\n",
        "print(f\"test1: expected=True, actual={has_substring('gatt', trie)}\")\n",
        "print(f\"test2: expected=True, actual={has_substring('tac', trie)}\")\n",
        "print(f\"test3: expected=False, actual={has_substring('acca', trie)}\")\n"
      ]
    },
    {
      "cell_type": "markdown",
      "id": "9a60dcd3",
      "metadata": {
        "deletable": false,
        "editable": false,
        "nbgrader": {
          "cell_type": "markdown",
          "checksum": "ab97c0bc0f20bf362df1d310e1659e74",
          "grade": false,
          "grade_id": "cell-f5c88ec36d689518",
          "locked": true,
          "schema_version": 3,
          "solution": false,
          "task": false
        },
        "tags": [],
        "id": "9a60dcd3"
      },
      "source": [
        "<div style=\"color: rgb(27,94,32); background: rgb(200,230,201); border: solid 1px rgb(129,199,132); padding: 10px;\">\n",
        "<h3>Question 2c</h3>\n",
        "    \n",
        "<b>Challenge:</b> Write a function to count the number of occurances a query substring appeared in the original text, using the trie.\n",
        "    \n",
        "- [ ] Input: substring (str); trie (networkx.DiGraph)\n",
        "- [ ] Ouput: num occurances (int)\n",
        "- [ ] return `0` if no occurances.\n",
        "\n",
        "The method to solve this question is presented in the lectures.\n",
        "\n",
        "Networkx has some useful functions which may help you in this question. <br>\n",
        "Read the relevant documentation here: https://networkx.org/documentation/stable/reference/algorithms/traversal.html\n",
        "\n",
        "\n",
        "</div>"
      ]
    },
    {
      "cell_type": "code",
      "execution_count": null,
      "id": "2bcdf35a",
      "metadata": {
        "deletable": false,
        "nbgrader": {
          "cell_type": "code",
          "checksum": "2006697e6f59bd19d7c28f433da1cbc0",
          "grade": false,
          "grade_id": "cell-857d2d6951c87dc6",
          "locked": false,
          "schema_version": 3,
          "solution": true,
          "task": false
        },
        "tags": [],
        "id": "2bcdf35a"
      },
      "outputs": [],
      "source": [
        "# -- GRADED CELL (2 marks) - complete this cell --\n",
        "\n",
        "def num_occurances(substring: str, trie: nx.DiGraph) -> int:\n",
        "    \"\"\"\n",
        "    returns the number of times a substring occurs in the original text,\n",
        "    using a suffix trie built from that text.\n",
        "    \"\"\"\n",
        "    # Find the root node, which is the node with no incoming edges\n",
        "    root_node = None\n",
        "    for node in trie.nodes:\n",
        "        if trie.in_degree(node) == 0:\n",
        "            root_node = node\n",
        "            break\n",
        "\n",
        "    if root_node is None:\n",
        "        raise ValueError\n",
        "\n",
        "    current_node = root_node\n",
        "\n",
        "    # Traverse through the trie using the substring characters\n",
        "    for char in substring:\n",
        "        current_node = traverse(current_node, char, trie)\n",
        "        if current_node is None:\n",
        "            return 0  # If traverse returns None, the substring is not present\n",
        "\n",
        "    # Count the number of leaf nodes in the subgraph rooted at current_node\n",
        "    count = 0\n",
        "    for node in nx.descendants(trie, current_node):\n",
        "        if trie.out_degree(node) == 0:  # Leaf node has no outgoing edges\n",
        "            count += 1\n",
        "\n",
        "    return count"
      ]
    },
    {
      "cell_type": "code",
      "execution_count": null,
      "id": "ff52da6d",
      "metadata": {
        "id": "ff52da6d"
      },
      "outputs": [],
      "source": [
        "# extra code cell for development if needed\n"
      ]
    },
    {
      "cell_type": "code",
      "execution_count": null,
      "id": "f9d661ef",
      "metadata": {
        "deletable": false,
        "editable": false,
        "nbgrader": {
          "cell_type": "code",
          "checksum": "ac4d9f3807ab21137e98de99dad324ec",
          "grade": true,
          "grade_id": "cell-3c35143af65858ba",
          "locked": true,
          "points": 2,
          "schema_version": 3,
          "solution": false,
          "task": false
        },
        "tags": [],
        "id": "f9d661ef"
      },
      "outputs": [],
      "source": [
        "# Testing cell - Do not alter.\n",
        "# Visible tests to check your code\n",
        "trie = pickle.load(open(TRIE_FILEPATH, 'rb'))\n",
        "\n",
        "print(f\"test1: expected=2, actual={num_occurances('t', trie)}\")\n",
        "print(f\"test2: expected=1, actual={num_occurances('atta', trie)}\")\n",
        "print(f\"test3: expected=0, actual={num_occurances('ata', trie)}\")\n"
      ]
    },
    {
      "cell_type": "markdown",
      "id": "ebfcd40e",
      "metadata": {
        "deletable": false,
        "editable": false,
        "nbgrader": {
          "cell_type": "markdown",
          "checksum": "885e97d0ca58645e0fbf86a6b3c25d16",
          "grade": false,
          "grade_id": "cell-b2e791ba6e346a91",
          "locked": true,
          "schema_version": 3,
          "solution": false,
          "task": false
        },
        "tags": [],
        "id": "ebfcd40e"
      },
      "source": [
        "\n",
        "<div style=\"color: rgb(0,0,0); background: #0096FF; border: solid 1px rgb(0,0,0); padding: 10px;\">\n",
        "\n",
        "<h2>Section B: Evolutionary Tree Building</h2>\n",
        "\n",
        "</div>"
      ]
    },
    {
      "cell_type": "markdown",
      "id": "55777f0e",
      "metadata": {
        "deletable": false,
        "editable": false,
        "nbgrader": {
          "cell_type": "markdown",
          "checksum": "9c0732875826de1769d50bc1e1c44f27",
          "grade": false,
          "grade_id": "cell-c5d2a0e47ffbbb7b",
          "locked": true,
          "schema_version": 3,
          "solution": false,
          "task": false
        },
        "tags": [],
        "id": "55777f0e"
      },
      "source": [
        "*(the email below is made up for this assignment)*\n",
        "\n",
        "You work for the World Health Organization (WHO) as the lead bioinformatician on a disease outbreak team.\n",
        "\n",
        "Today started like any other.\n",
        "The date is Tuesday, September 10th. You were sitting at home, finishing your morning coffee when you received a call. <br>\n",
        "\n",
        "The caller was Saima Wazed, the WHO regional director for South-East Asia.  <br>\n",
        "In a concerned tone, she informs you that a new Ebola outbreak has been detected in Guinea, West Africa. <br>\n",
        "She tells you to await further instruction via email, which arrives 10 minutes later."
      ]
    },
    {
      "cell_type": "markdown",
      "id": "87fb3b38",
      "metadata": {
        "deletable": false,
        "editable": false,
        "nbgrader": {
          "cell_type": "markdown",
          "checksum": "add077c9fb44d94035d7658d79a9782c",
          "grade": false,
          "grade_id": "cell-8409d165d1c73255",
          "locked": true,
          "schema_version": 3,
          "solution": false,
          "task": false
        },
        "tags": [],
        "id": "87fb3b38"
      },
      "source": [
        "<img src=\"https://raw.githubusercontent.com/melbournebioinformatics/COMP90014_2024/master/assignments/media/email.png\" width=\"1000\">\n"
      ]
    },
    {
      "cell_type": "markdown",
      "id": "9056ce43",
      "metadata": {
        "deletable": false,
        "editable": false,
        "nbgrader": {
          "cell_type": "markdown",
          "checksum": "85c8025a761429d81b9ded5146d839cc",
          "grade": false,
          "grade_id": "cell-406bd81f1260b36a",
          "locked": true,
          "schema_version": 3,
          "solution": false,
          "task": false
        },
        "tags": [],
        "id": "9056ce43"
      },
      "source": [
        "You take 5 minutes to form an action plan. <br>\n",
        "\n",
        "Thinking back to the COMP90014 algorithms class you studied at university, an idea hits you. <br>\n",
        "You realise you can perform evolutionary tree building to answer both questions.  <br>\n",
        "You reason that, for example, if the new outbreak is descendent from *strain W*, then Ervebo would be effective. <br>\n",
        "The output tree would also provide deep insight into how the outbreak is unfolding in real-time, as can be regenerated as new cases are identified.\n",
        "\n",
        "You immediately email the data team requesting sequencing data from both previous and current cases. <br>\n",
        "After packing quickly, you head to the airport & board the plane. The data arrives as you're just about to take off. <br>\n",
        "Realising you will only have 14 hours on the plane to develop the required code, you get to work.\n"
      ]
    },
    {
      "cell_type": "markdown",
      "id": "acd62cf6",
      "metadata": {
        "deletable": false,
        "editable": false,
        "nbgrader": {
          "cell_type": "markdown",
          "checksum": "4c318183af4ec45b43c43e957884d839",
          "grade": false,
          "grade_id": "cell-42d5143c20340a4d",
          "locked": true,
          "schema_version": 3,
          "solution": false,
          "task": false
        },
        "tags": [],
        "id": "acd62cf6"
      },
      "source": [
        "**Data**\n",
        "\n",
        "The individual sequences are available at https://github.com/melbournebioinformatics/COMP90014_2024/blob/master/assignments/data/ebola_glycoproteins.fasta <br>\n",
        "A pre-built Multiple Sequence Alignment (MSA) is available at https://github.com/melbournebioinformatics/COMP90014_2024/blob/master/assignments/data/ebola_glycoproteins.fasta\n",
        "\n",
        "Download these and place in a subfolder called <small>`data/`</small>.<br>\n",
        "Ensure these can be loaded from file in the cells below.\n",
        "\n"
      ]
    },
    {
      "cell_type": "markdown",
      "id": "9476fded",
      "metadata": {
        "deletable": false,
        "editable": false,
        "nbgrader": {
          "cell_type": "markdown",
          "checksum": "335addf68d6920f74df80ca30d1e30e1",
          "grade": false,
          "grade_id": "cell-a3e790e1755df8a7",
          "locked": true,
          "schema_version": 3,
          "solution": false,
          "task": false
        },
        "tags": [],
        "id": "9476fded"
      },
      "source": [
        "**Sequences**"
      ]
    },
    {
      "cell_type": "code",
      "execution_count": null,
      "id": "db0e5e83",
      "metadata": {
        "tags": [],
        "id": "db0e5e83"
      },
      "outputs": [],
      "source": [
        "def load_sequences(filepath: str):\n",
        "    from Bio import SeqIO\n",
        "    seqs = []\n",
        "    for seq in SeqIO.parse(filepath, \"fasta\"):\n",
        "        seqs.append((seq.name, str(seq.seq)))\n",
        "    return seqs\n",
        "\n",
        "# print 80 chars from the first two glycoprotein sequences\n",
        "EBOLA_SEQS = \"data/ebola_glycoproteins.fasta\"\n",
        "seqs = load_sequences(EBOLA_SEQS)\n",
        "for name, seq in seqs[:2]:\n",
        "    print(name, seq[:80])\n"
      ]
    },
    {
      "cell_type": "markdown",
      "id": "22eb7f3e",
      "metadata": {
        "deletable": false,
        "editable": false,
        "nbgrader": {
          "cell_type": "markdown",
          "checksum": "86293e515250c8b611011f62d5db9622",
          "grade": false,
          "grade_id": "cell-0fdd9fe38b5b72c5",
          "locked": true,
          "schema_version": 3,
          "solution": false,
          "task": false
        },
        "tags": [],
        "id": "22eb7f3e"
      },
      "source": [
        "**MSA**\n",
        "\n",
        "The Multiple Sequence Alignment (MSA) is represented as a [Bio.AlignIO.SummaryInfo](https://biopython.org/docs/1.76/api/Bio.Align.AlignInfo.html) object. <br>\n",
        "The code below demonstrates how columns of the MSA can be accessed."
      ]
    },
    {
      "cell_type": "code",
      "execution_count": null,
      "id": "87f97a88",
      "metadata": {
        "tags": [],
        "id": "87f97a88"
      },
      "outputs": [],
      "source": [
        "def load_msa(filepath: str):\n",
        "    from Bio import AlignIO\n",
        "    from Bio.Align import AlignInfo\n",
        "    msa = AlignIO.read(filepath, \"fasta\")\n",
        "    return AlignInfo.SummaryInfo(msa.alignment)\n",
        "\n",
        "EBOLA_MSA = \"data/ebola_glyoproteins_MSA.fasta\"\n",
        "msa = load_msa(EBOLA_MSA)\n",
        "\n",
        "# display the first 20 columns for seqs 0-5.\n",
        "print(msa.alignment[:5, :20])\n",
        "\n",
        "# get a specific column of the MSA.\n",
        "print(msa.get_column(1))\n",
        "print(msa.get_column(2))\n"
      ]
    },
    {
      "cell_type": "markdown",
      "id": "47e8634e",
      "metadata": {
        "deletable": false,
        "editable": false,
        "nbgrader": {
          "cell_type": "markdown",
          "checksum": "bab0565faaece1eb9156b2c5f25aea3d",
          "grade": false,
          "grade_id": "cell-1ad712c7bb622bbc",
          "locked": true,
          "schema_version": 3,
          "solution": false,
          "task": false
        },
        "tags": [],
        "id": "47e8634e"
      },
      "source": [
        "<div style=\"color: rgb(27,94,32); background: rgb(200,230,201); border: solid 1px rgb(129,199,132); padding: 10px;\">\n",
        "<h3>Question 3a</h3>\n",
        "    \n",
        "<b>Challenge:</b> Using one or more algorithms ***mentioned in the lectures***, write code to perform evolutionary tree building.\n",
        "\n",
        "- [ ] Input: sequences (list of tuples); msa (Bio.AlignIO.SummaryInfo).\n",
        "- [ ] Ouput: a networkx graph representing your evolutionary tree (nx.DiGraph).\n",
        "\n",
        "\n",
        "Further Instructions\n",
        "- Use the input <small>`sequences`</small> ***and/or*** Multiple Sequence Alignment `msa` to answer this question.\n",
        "- The main entry point for your code must be the <small>`build_evo_tree()`</small> function.\n",
        "- Use the provided <small>`A2utils.draw_evo_tree()`</small> function to draw your final phylogenetic tree.\n",
        "\n",
        "Details\n",
        "- The file <small>`'ebola_glycoproteins.fasta'`</small> contains Ebola envelope glycoprotein (GP) sequences isolated from patients.\n",
        "- The file <small>`'ebola_glycoproteins_MSA.fasta'`</small> contains a MSA built from the Ebola GP sequences.\n",
        "- Helper functions have been provided to load this data from file.\n",
        "- You **may** use functionality in external libraries, including biopython or networkx.\n",
        "- You **may not** use functionality which performs evolutionary tree building in an end-to-end fashion.\n",
        "    - eg anything in the <small>`Bio.Phylo.TreeConstruction`</small> module is not allowed.\n",
        "- Break the problem down into smaller functions which each handle parts of the process.\n",
        "\n",
        "**Marking**\n",
        "\n",
        "This question is very open-ended. There are multiple approaches you could take. <br>\n",
        "A relatively straightfoward approach can achieve 4/6 marks, with outstanding submissions receiving the full 6 marks.\n",
        "\n",
        "There is no autograding for this question. Marks will be awarded on a per-submission basis via reading your code and viewing your output tree. <br>\n",
        "So that we can award proper marks, make sure your code is easily readable (formatting and code comments will help).\n",
        "\n",
        "- Approach [2 marks]\n",
        "    - Your method is reasonable given the size and nature of the input data.\n",
        "    - Some approaches will only receive partial marks.\n",
        "    - Exemplary approaches will recieve up to 1 bonus mark, which take effect if you have lost marks in previous questions.\n",
        "- Correctness [2 marks]\n",
        "    - For your chosen method, the output tree is reasonable.\n",
        "    - Note: different approaches may produce different trees.\n",
        "- Runtime [1 mark]\n",
        "    - Code must run in less than 5 minutes.  \n",
        "    - Note: different approaches may have different valid runtimes. In some situations we may allow >5 mins.\n",
        "- Code practices [1 mark]\n",
        "    - Code has good structure (eg functions aren't 100 lines long).\n",
        "    - Writing test cases for your functions may aid the development process, but are not required.\n",
        "\n",
        "</div>\n",
        "\n",
        "> **Note**\n",
        ">\n",
        "> The <small>`draw_evo_tree()`</small> function will only work properly if your graph is formatted as expected.\n",
        ">\n",
        "> An example tree is available [here](https://github.com/melbournebioinformatics/COMP90014_2024/blob/master/assignments/media/evotree.png) for your reference. <br>\n",
        "> This is not the 'correct' solution (eg new cases don't appear). <br>\n",
        "> It is meant to demonstrate the appearence of plots rendered using the <small>`draw_evo_tree()`</small> function.\n",
        ">\n",
        "> Nodes\n",
        "> - Should be unique integers, not sequence names.\n",
        "> - For leaf nodes, add their sequence name under the <small>`\"label\"`</small> attribute.\n",
        "> - Leaf nodes which represent new cases (ie their <small>`\"label\"`</small> starts with <small>`CASE_`</small>) will be displayed in <span style=\"color: red\">red</span>\n",
        ">\n",
        "> Edges\n",
        "> - Edge lengths should be added under the <small>`\"len\"`</small> attribute. <br><br>\n",
        "\n"
      ]
    },
    {
      "cell_type": "code",
      "execution_count": null,
      "id": "c83f8cd4",
      "metadata": {
        "deletable": false,
        "nbgrader": {
          "cell_type": "code",
          "checksum": "ea9f7455fc6e0b94d304c093a5e48bad",
          "grade": false,
          "grade_id": "cell-3fc96a95e6242367",
          "locked": false,
          "schema_version": 3,
          "solution": true,
          "task": false
        },
        "tags": [],
        "id": "c83f8cd4"
      },
      "outputs": [],
      "source": [
        "# -- GRADED CELL (6 marks) - complete this cell --\n",
        "\n",
        "import numpy as np\n",
        "from typing import Tuple, List\n",
        "from Bio.Align import AlignInfo\n",
        "from scipy.cluster.hierarchy import linkage, to_tree\n",
        "\n",
        "def build_evo_tree(sequences: Tuple[str, str], msa: AlignInfo.SummaryInfo) -> nx.DiGraph:\n",
        "    \"\"\"\n",
        "    Performs evolutionary tree building using input sequences and/or an input msa.\n",
        "    \"\"\"\n",
        "    seq_names = [name for name, seq in sequences]\n",
        "    seq_data = [seq for name, seq in sequences]\n",
        "\n",
        "    # Compute the pairwise distance matrix\n",
        "    distance_matrix = compute_pairwise_distances(seq_data)\n",
        "\n",
        "    # Perform UPGMA clustering using linkage (method='average' for UPGMA)\n",
        "    Z = linkage(distance_matrix, method='average')\n",
        "\n",
        "    # Convert the linkage matrix into a tree structure\n",
        "    tree = to_tree(Z, rd=False)\n",
        "\n",
        "    # Create a directed graph from the tree structure\n",
        "    G = nx.DiGraph()\n",
        "\n",
        "    # Recursive function to add nodes to the graph\n",
        "    def add_node(node, parent=None):\n",
        "        if node.is_leaf():\n",
        "            label = seq_names[node.id]\n",
        "        else:\n",
        "            label = f\"Internal_{node.id}\"\n",
        "\n",
        "        G.add_node(node.id, label=label)\n",
        "        if parent is not None:\n",
        "            G.add_edge(parent, node.id, len=node.dist)\n",
        "\n",
        "        if node.left:\n",
        "            add_node(node.left, node.id)\n",
        "        if node.right:\n",
        "            add_node(node.right, node.id)\n",
        "\n",
        "    # Start adding nodes from the root\n",
        "    add_node(tree)\n",
        "\n",
        "    return G\n",
        "\n",
        "def compute_pairwise_distances(sequences: List[str]) -> np.ndarray:\n",
        "    n = len(sequences)\n",
        "    distance_matrix = np.zeros((n, n))\n",
        "\n",
        "    for i in range(n):\n",
        "        for j in range(i + 1, n):\n",
        "            # Calculate the Hamming distance\n",
        "            distance = sum(c1 != c2 for c1, c2 in zip(sequences[i], sequences[j]))\n",
        "            distance_matrix[i, j] = distance\n",
        "            distance_matrix[j, i] = distance\n",
        "\n",
        "    return distance_matrix\n"
      ]
    },
    {
      "cell_type": "code",
      "execution_count": null,
      "id": "60df9833",
      "metadata": {
        "id": "60df9833"
      },
      "outputs": [],
      "source": [
        "# extra code cell for development if needed\n"
      ]
    },
    {
      "cell_type": "code",
      "execution_count": null,
      "id": "cb526787",
      "metadata": {
        "deletable": false,
        "editable": false,
        "nbgrader": {
          "cell_type": "code",
          "checksum": "385b8291db40572fb95b8199ac349297",
          "grade": true,
          "grade_id": "cell-b62a64f51875d717",
          "locked": true,
          "points": 6,
          "schema_version": 3,
          "solution": false,
          "task": false
        },
        "tags": [],
        "id": "cb526787"
      },
      "outputs": [],
      "source": [
        "# Testing cell - Do not alter.\n",
        "seqs = load_sequences(EBOLA_SEQS_FILEPATH)\n",
        "msa = load_msa(EBOLA_MSA_FILEPATH)\n",
        "T = build_evo_tree(seqs, msa)\n",
        "A2utils.draw_evo_tree(T)\n"
      ]
    },
    {
      "cell_type": "markdown",
      "id": "710bcb80",
      "metadata": {
        "deletable": false,
        "editable": false,
        "nbgrader": {
          "cell_type": "markdown",
          "checksum": "25ce2e473324f71981b5d8c6549b94bc",
          "grade": false,
          "grade_id": "cell-bba74d9647ce0711",
          "locked": true,
          "schema_version": 3,
          "solution": false,
          "task": false
        },
        "tags": [],
        "id": "710bcb80"
      },
      "source": [
        "<div style=\"color: rgb(27,94,32); background: rgb(200,230,201); border: solid 1px rgb(129,199,132); padding: 10px;\">\n",
        "<h3>Question 3b</h3>\n",
        "\n",
        "(Short Answer Question)<br>\n",
        "(3 marks, max 250 words)\n",
        "\n",
        "<div class=\"alert alert-info\">\n",
        "\n",
        "Describe your overall approach to Question 3a, outlining why you chose this method.<br>\n",
        "Propose some modifications or a different strategy which may improve correctness or runtime.  <br>\n",
        "Finally, interpret your output tree, indicating which vaccine (if any) may be effective against this new outbreak.\n",
        "\n",
        "If you were not able to complete question 3a, write what you intended to do.\n",
        "</div>\n"
      ]
    },
    {
      "cell_type": "markdown",
      "id": "76897834",
      "metadata": {
        "deletable": false,
        "nbgrader": {
          "cell_type": "markdown",
          "checksum": "bb48ca38257c1d95638976a6fa1fc7fb",
          "grade": true,
          "grade_id": "cell-2e623b6c3ce10fce",
          "locked": false,
          "points": 3,
          "schema_version": 3,
          "solution": true,
          "task": false
        },
        "tags": [],
        "id": "76897834"
      },
      "source": [
        "YOUR ANSWER HERE\n",
        "\n",
        "I applied the UPGMA algorithm to construct an evolutionary tree based on pairwise sequence distances. UPGMA is a well-established, straightforward method for generating rooted trees, making it particularly suitable for analyzing the Ebola glycoprotein sequences, where the evolutionary distances between strains are expected to be relatively small. By clustering sequences iteratively based on their smallest pairwise distances, UPGMA effectively groups closely related strains, which is crucial for identifying the most appropriate vaccine for the outbreak.\n",
        "\n",
        "Modifications and Improvements:\n",
        "To potentially improve the accuracy and robustness of the tree, a different approach like the Neighbor-Joining (NJ) method could be employed. Unlike UPGMA, NJ does not assume a constant rate of evolution, making it more adaptable to datasets where evolutionary rates may vary across different lineages. Additionally, incorporating bootstrapping into the analysis could provide confidence levels for the branches of the tree, thereby enhancing the reliability of the inferred evolutionary relationships.\n",
        "\n",
        "Interpretation of the Output Tree:\n",
        "The resulting tree clusters the new Ebola strain near one of the known strains (W, X, Y, or Z). If the new strain is most closely related to strain W, then the Ervebo vaccine, which is effective against strain W, would likely be the best option for this outbreak. This interpretation assumes that the genetic similarities reflected in the tree correlate with antigenic properties relevant to vaccine effectiveness."
      ]
    },
    {
      "cell_type": "code",
      "source": [
        "# Convert the notebook to HTML\n",
        "!jupyter nbconvert --to html /content/Assignment2.ipynb --stdout\n",
        "\n",
        "# Download the HTML file\n",
        "from google.colab import files\n",
        "files.download('/content/Assignment2.html')"
      ],
      "metadata": {
        "colab": {
          "base_uri": "https://localhost:8080/",
          "height": 1000
        },
        "id": "y7qNsowDfWR0",
        "outputId": "c1ab8765-83bb-4e61-f5bf-19a92ce6ab45"
      },
      "id": "y7qNsowDfWR0",
      "execution_count": null,
      "outputs": [
        {
          "output_type": "stream",
          "name": "stdout",
          "text": [
            "[NbConvertApp] WARNING | pattern '/content/Assignment2.ipynb' matched no files\n",
            "This application is used to convert notebook files (*.ipynb)\n",
            "        to various other formats.\n",
            "\n",
            "        WARNING: THE COMMANDLINE INTERFACE MAY CHANGE IN FUTURE RELEASES.\n",
            "\n",
            "Options\n",
            "=======\n",
            "The options below are convenience aliases to configurable class-options,\n",
            "as listed in the \"Equivalent to\" description-line of the aliases.\n",
            "To see all configurable class-options for some <cmd>, use:\n",
            "    <cmd> --help-all\n",
            "\n",
            "--debug\n",
            "    set log level to logging.DEBUG (maximize logging output)\n",
            "    Equivalent to: [--Application.log_level=10]\n",
            "--show-config\n",
            "    Show the application's configuration (human-readable format)\n",
            "    Equivalent to: [--Application.show_config=True]\n",
            "--show-config-json\n",
            "    Show the application's configuration (json format)\n",
            "    Equivalent to: [--Application.show_config_json=True]\n",
            "--generate-config\n",
            "    generate default config file\n",
            "    Equivalent to: [--JupyterApp.generate_config=True]\n",
            "-y\n",
            "    Answer yes to any questions instead of prompting.\n",
            "    Equivalent to: [--JupyterApp.answer_yes=True]\n",
            "--execute\n",
            "    Execute the notebook prior to export.\n",
            "    Equivalent to: [--ExecutePreprocessor.enabled=True]\n",
            "--allow-errors\n",
            "    Continue notebook execution even if one of the cells throws an error and include the error message in the cell output (the default behaviour is to abort conversion). This flag is only relevant if '--execute' was specified, too.\n",
            "    Equivalent to: [--ExecutePreprocessor.allow_errors=True]\n",
            "--stdin\n",
            "    read a single notebook file from stdin. Write the resulting notebook with default basename 'notebook.*'\n",
            "    Equivalent to: [--NbConvertApp.from_stdin=True]\n",
            "--stdout\n",
            "    Write notebook output to stdout instead of files.\n",
            "    Equivalent to: [--NbConvertApp.writer_class=StdoutWriter]\n",
            "--inplace\n",
            "    Run nbconvert in place, overwriting the existing notebook (only\n",
            "            relevant when converting to notebook format)\n",
            "    Equivalent to: [--NbConvertApp.use_output_suffix=False --NbConvertApp.export_format=notebook --FilesWriter.build_directory=]\n",
            "--clear-output\n",
            "    Clear output of current file and save in place,\n",
            "            overwriting the existing notebook.\n",
            "    Equivalent to: [--NbConvertApp.use_output_suffix=False --NbConvertApp.export_format=notebook --FilesWriter.build_directory= --ClearOutputPreprocessor.enabled=True]\n",
            "--no-prompt\n",
            "    Exclude input and output prompts from converted document.\n",
            "    Equivalent to: [--TemplateExporter.exclude_input_prompt=True --TemplateExporter.exclude_output_prompt=True]\n",
            "--no-input\n",
            "    Exclude input cells and output prompts from converted document.\n",
            "            This mode is ideal for generating code-free reports.\n",
            "    Equivalent to: [--TemplateExporter.exclude_output_prompt=True --TemplateExporter.exclude_input=True --TemplateExporter.exclude_input_prompt=True]\n",
            "--allow-chromium-download\n",
            "    Whether to allow downloading chromium if no suitable version is found on the system.\n",
            "    Equivalent to: [--WebPDFExporter.allow_chromium_download=True]\n",
            "--disable-chromium-sandbox\n",
            "    Disable chromium security sandbox when converting to PDF..\n",
            "    Equivalent to: [--WebPDFExporter.disable_sandbox=True]\n",
            "--show-input\n",
            "    Shows code input. This flag is only useful for dejavu users.\n",
            "    Equivalent to: [--TemplateExporter.exclude_input=False]\n",
            "--embed-images\n",
            "    Embed the images as base64 dataurls in the output. This flag is only useful for the HTML/WebPDF/Slides exports.\n",
            "    Equivalent to: [--HTMLExporter.embed_images=True]\n",
            "--sanitize-html\n",
            "    Whether the HTML in Markdown cells and cell outputs should be sanitized..\n",
            "    Equivalent to: [--HTMLExporter.sanitize_html=True]\n",
            "--log-level=<Enum>\n",
            "    Set the log level by value or name.\n",
            "    Choices: any of [0, 10, 20, 30, 40, 50, 'DEBUG', 'INFO', 'WARN', 'ERROR', 'CRITICAL']\n",
            "    Default: 30\n",
            "    Equivalent to: [--Application.log_level]\n",
            "--config=<Unicode>\n",
            "    Full path of a config file.\n",
            "    Default: ''\n",
            "    Equivalent to: [--JupyterApp.config_file]\n",
            "--to=<Unicode>\n",
            "    The export format to be used, either one of the built-in formats\n",
            "            ['asciidoc', 'custom', 'html', 'latex', 'markdown', 'notebook', 'pdf', 'python', 'rst', 'script', 'slides', 'webpdf']\n",
            "            or a dotted object name that represents the import path for an\n",
            "            ``Exporter`` class\n",
            "    Default: ''\n",
            "    Equivalent to: [--NbConvertApp.export_format]\n",
            "--template=<Unicode>\n",
            "    Name of the template to use\n",
            "    Default: ''\n",
            "    Equivalent to: [--TemplateExporter.template_name]\n",
            "--template-file=<Unicode>\n",
            "    Name of the template file to use\n",
            "    Default: None\n",
            "    Equivalent to: [--TemplateExporter.template_file]\n",
            "--theme=<Unicode>\n",
            "    Template specific theme(e.g. the name of a JupyterLab CSS theme distributed\n",
            "    as prebuilt extension for the lab template)\n",
            "    Default: 'light'\n",
            "    Equivalent to: [--HTMLExporter.theme]\n",
            "--sanitize_html=<Bool>\n",
            "    Whether the HTML in Markdown cells and cell outputs should be sanitized.This\n",
            "    should be set to True by nbviewer or similar tools.\n",
            "    Default: False\n",
            "    Equivalent to: [--HTMLExporter.sanitize_html]\n",
            "--writer=<DottedObjectName>\n",
            "    Writer class used to write the\n",
            "                                        results of the conversion\n",
            "    Default: 'FilesWriter'\n",
            "    Equivalent to: [--NbConvertApp.writer_class]\n",
            "--post=<DottedOrNone>\n",
            "    PostProcessor class used to write the\n",
            "                                        results of the conversion\n",
            "    Default: ''\n",
            "    Equivalent to: [--NbConvertApp.postprocessor_class]\n",
            "--output=<Unicode>\n",
            "    overwrite base name use for output files.\n",
            "                can only be used when converting one notebook at a time.\n",
            "    Default: ''\n",
            "    Equivalent to: [--NbConvertApp.output_base]\n",
            "--output-dir=<Unicode>\n",
            "    Directory to write output(s) to. Defaults\n",
            "                                  to output to the directory of each notebook. To recover\n",
            "                                  previous default behaviour (outputting to the current\n",
            "                                  working directory) use . as the flag value.\n",
            "    Default: ''\n",
            "    Equivalent to: [--FilesWriter.build_directory]\n",
            "--reveal-prefix=<Unicode>\n",
            "    The URL prefix for reveal.js (version 3.x).\n",
            "            This defaults to the reveal CDN, but can be any url pointing to a copy\n",
            "            of reveal.js.\n",
            "            For speaker notes to work, this must be a relative path to a local\n",
            "            copy of reveal.js: e.g., \"reveal.js\".\n",
            "            If a relative path is given, it must be a subdirectory of the\n",
            "            current directory (from which the server is run).\n",
            "            See the usage documentation\n",
            "            (https://nbconvert.readthedocs.io/en/latest/usage.html#reveal-js-html-slideshow)\n",
            "            for more details.\n",
            "    Default: ''\n",
            "    Equivalent to: [--SlidesExporter.reveal_url_prefix]\n",
            "--nbformat=<Enum>\n",
            "    The nbformat version to write.\n",
            "            Use this to downgrade notebooks.\n",
            "    Choices: any of [1, 2, 3, 4]\n",
            "    Default: 4\n",
            "    Equivalent to: [--NotebookExporter.nbformat_version]\n",
            "\n",
            "Examples\n",
            "--------\n",
            "\n",
            "    The simplest way to use nbconvert is\n",
            "\n",
            "            > jupyter nbconvert mynotebook.ipynb --to html\n",
            "\n",
            "            Options include ['asciidoc', 'custom', 'html', 'latex', 'markdown', 'notebook', 'pdf', 'python', 'rst', 'script', 'slides', 'webpdf'].\n",
            "\n",
            "            > jupyter nbconvert --to latex mynotebook.ipynb\n",
            "\n",
            "            Both HTML and LaTeX support multiple output templates. LaTeX includes\n",
            "            'base', 'article' and 'report'.  HTML includes 'basic', 'lab' and\n",
            "            'classic'. You can specify the flavor of the format used.\n",
            "\n",
            "            > jupyter nbconvert --to html --template lab mynotebook.ipynb\n",
            "\n",
            "            You can also pipe the output to stdout, rather than a file\n",
            "\n",
            "            > jupyter nbconvert mynotebook.ipynb --stdout\n",
            "\n",
            "            PDF is generated via latex\n",
            "\n",
            "            > jupyter nbconvert mynotebook.ipynb --to pdf\n",
            "\n",
            "            You can get (and serve) a Reveal.js-powered slideshow\n",
            "\n",
            "            > jupyter nbconvert myslides.ipynb --to slides --post serve\n",
            "\n",
            "            Multiple notebooks can be given at the command line in a couple of\n",
            "            different ways:\n",
            "\n",
            "            > jupyter nbconvert notebook*.ipynb\n",
            "            > jupyter nbconvert notebook1.ipynb notebook2.ipynb\n",
            "\n",
            "            or you can specify the notebooks list in a config file, containing::\n",
            "\n",
            "                c.NbConvertApp.notebooks = [\"my_notebook.ipynb\"]\n",
            "\n",
            "            > jupyter nbconvert --config mycfg.py\n",
            "\n",
            "To see all available configurables, use `--help-all`.\n",
            "\n"
          ]
        },
        {
          "output_type": "error",
          "ename": "FileNotFoundError",
          "evalue": "Cannot find file: /content/Assignment2.html",
          "traceback": [
            "\u001b[0;31m---------------------------------------------------------------------------\u001b[0m",
            "\u001b[0;31mFileNotFoundError\u001b[0m                         Traceback (most recent call last)",
            "\u001b[0;32m<ipython-input-39-4921215558af>\u001b[0m in \u001b[0;36m<cell line: 6>\u001b[0;34m()\u001b[0m\n\u001b[1;32m      4\u001b[0m \u001b[0;31m# Download the HTML file\u001b[0m\u001b[0;34m\u001b[0m\u001b[0;34m\u001b[0m\u001b[0m\n\u001b[1;32m      5\u001b[0m \u001b[0;32mfrom\u001b[0m \u001b[0mgoogle\u001b[0m\u001b[0;34m.\u001b[0m\u001b[0mcolab\u001b[0m \u001b[0;32mimport\u001b[0m \u001b[0mfiles\u001b[0m\u001b[0;34m\u001b[0m\u001b[0;34m\u001b[0m\u001b[0m\n\u001b[0;32m----> 6\u001b[0;31m \u001b[0mfiles\u001b[0m\u001b[0;34m.\u001b[0m\u001b[0mdownload\u001b[0m\u001b[0;34m(\u001b[0m\u001b[0;34m'/content/Assignment2.html'\u001b[0m\u001b[0;34m)\u001b[0m\u001b[0;34m\u001b[0m\u001b[0;34m\u001b[0m\u001b[0m\n\u001b[0m",
            "\u001b[0;32m/usr/local/lib/python3.10/dist-packages/google/colab/files.py\u001b[0m in \u001b[0;36mdownload\u001b[0;34m(filename)\u001b[0m\n\u001b[1;32m    223\u001b[0m   \u001b[0;32mif\u001b[0m \u001b[0;32mnot\u001b[0m \u001b[0m_os\u001b[0m\u001b[0;34m.\u001b[0m\u001b[0mpath\u001b[0m\u001b[0;34m.\u001b[0m\u001b[0mexists\u001b[0m\u001b[0;34m(\u001b[0m\u001b[0mfilename\u001b[0m\u001b[0;34m)\u001b[0m\u001b[0;34m:\u001b[0m\u001b[0;34m\u001b[0m\u001b[0;34m\u001b[0m\u001b[0m\n\u001b[1;32m    224\u001b[0m     \u001b[0mmsg\u001b[0m \u001b[0;34m=\u001b[0m \u001b[0;34m'Cannot find file: {}'\u001b[0m\u001b[0;34m.\u001b[0m\u001b[0mformat\u001b[0m\u001b[0;34m(\u001b[0m\u001b[0mfilename\u001b[0m\u001b[0;34m)\u001b[0m\u001b[0;34m\u001b[0m\u001b[0;34m\u001b[0m\u001b[0m\n\u001b[0;32m--> 225\u001b[0;31m     \u001b[0;32mraise\u001b[0m \u001b[0mFileNotFoundError\u001b[0m\u001b[0;34m(\u001b[0m\u001b[0mmsg\u001b[0m\u001b[0;34m)\u001b[0m  \u001b[0;31m# pylint: disable=undefined-variable\u001b[0m\u001b[0;34m\u001b[0m\u001b[0;34m\u001b[0m\u001b[0m\n\u001b[0m\u001b[1;32m    226\u001b[0m \u001b[0;34m\u001b[0m\u001b[0m\n\u001b[1;32m    227\u001b[0m   \u001b[0mcomm_manager\u001b[0m \u001b[0;34m=\u001b[0m \u001b[0m_IPython\u001b[0m\u001b[0;34m.\u001b[0m\u001b[0mget_ipython\u001b[0m\u001b[0;34m(\u001b[0m\u001b[0;34m)\u001b[0m\u001b[0;34m.\u001b[0m\u001b[0mkernel\u001b[0m\u001b[0;34m.\u001b[0m\u001b[0mcomm_manager\u001b[0m\u001b[0;34m\u001b[0m\u001b[0;34m\u001b[0m\u001b[0m\n",
            "\u001b[0;31mFileNotFoundError\u001b[0m: Cannot find file: /content/Assignment2.html"
          ]
        }
      ]
    },
    {
      "cell_type": "markdown",
      "id": "8b977f9a-048c-417f-9a65-ee3a4cd65f4a",
      "metadata": {
        "deletable": false,
        "editable": false,
        "nbgrader": {
          "cell_type": "markdown",
          "checksum": "e732e4a8a7c11520e3e5993406ff86bf",
          "grade": false,
          "grade_id": "cell-eb51e063ce20b5d9",
          "locked": true,
          "schema_version": 3,
          "solution": false,
          "task": false
        },
        "tags": [],
        "id": "8b977f9a-048c-417f-9a65-ee3a4cd65f4a"
      },
      "source": [
        "<div style=\"background: rgb(255,165,0); border: solid 1px rgb(129,199,132); padding: 10px;\">    \n",
        "\n",
        "<h1>End of Assignment.</h1>\n",
        "    \n",
        "</div>"
      ]
    },
    {
      "cell_type": "markdown",
      "id": "99482d9a-b914-489c-a60f-aa9251331916",
      "metadata": {
        "deletable": false,
        "editable": false,
        "nbgrader": {
          "cell_type": "markdown",
          "checksum": "3aded44117245b88ddcc9c3e6225e807",
          "grade": false,
          "grade_id": "cell-39c6398806de55b6",
          "locked": true,
          "schema_version": 3,
          "solution": false,
          "task": false
        },
        "tags": [],
        "id": "99482d9a-b914-489c-a60f-aa9251331916"
      },
      "source": [
        "A [submission checklist](https://github.com/melbournebioinformatics/COMP90014_2024/blob/master/assignments/submission_checklist.md) has been compiled, motivated by issues in Assignment 1 submissions.\n",
        "\n",
        "Please ensure you have confirmed each item before submission.\n",
        "\n",
        "\n"
      ]
    }
  ],
  "metadata": {
    "kernelspec": {
      "display_name": "Python 3 (ipykernel)",
      "language": "python",
      "name": "python3"
    },
    "language_info": {
      "codemirror_mode": {
        "name": "ipython",
        "version": 3
      },
      "file_extension": ".py",
      "mimetype": "text/x-python",
      "name": "python",
      "nbconvert_exporter": "python",
      "pygments_lexer": "ipython3",
      "version": "3.11.5"
    },
    "colab": {
      "provenance": [],
      "include_colab_link": true
    }
  },
  "nbformat": 4,
  "nbformat_minor": 5
}