{
 "cells": [
  {
   "cell_type": "markdown",
   "metadata": {
    "deletable": false,
    "editable": false,
    "nbgrader": {
     "cell_type": "markdown",
     "checksum": "e16d6675dbf866654b9b3312df254192",
     "grade": false,
     "grade_id": "cell-148fbaaecb78064f",
     "locked": true,
     "schema_version": 3,
     "solution": false,
     "task": false
    }
   },
   "source": [
    "# COMP90014 Assignment 1\n",
    "### Semester 2, 2024\n",
    "Version 1.0 Last edited 30/07/2024."
   ]
  },
  {
   "cell_type": "code",
   "execution_count": 42,
   "metadata": {},
   "outputs": [],
   "source": [
    "### Fill in your student details here\n",
    "NAME = \"Ching-Yi Peng\"\n",
    "ID = \"1545824\""
   ]
  },
  {
   "cell_type": "markdown",
   "metadata": {
    "deletable": false,
    "editable": false,
    "nbgrader": {
     "cell_type": "markdown",
     "checksum": "de3996411da6713e21045bdbe84eadda",
     "grade": false,
     "grade_id": "cell-5f3516f7316ab469",
     "locked": true,
     "schema_version": 3,
     "solution": false,
     "task": false
    }
   },
   "source": [
    "## Completing the assignment\n",
    "\n",
    "***Academic integrity***\n",
    "\n",
    "This assignment should be completed by each student individually. <br>\n",
    "Make sure you read this entire document, and ask for help if anything is not clear. <br>\n",
    "Any changes or clarifications to this document will be announced via the LMS. <br>\n",
    "\n",
    "Please make sure you review the University's rules on academic honesty and plagiarism: https://academichonesty.unimelb.edu.au/\n",
    "\n",
    "Do not copy any code from other students or from the internet. This is considered plagiarism.\n",
    "\n",
    "***Completing the assignment & submission***\n",
    "\n",
    "To complete the assignment, finish the coding and short answer tasks in this notebook.<br>\n",
    "Please do not copy or delete cells in this notebook, as this may interrupt the autograding of hidden tests. <br>\n",
    "Your completed notebook file containing all your answers will be turned in via LMS. Please also submit an HTML file.\n",
    "\n",
    "***Visible & hidden tests***\n",
    "\n",
    "In some cases, we have provided test input and test output that you can use to try out your solutions. <br> \n",
    "These are visible tests and serve to warn you if you've made a mistake but are **not** exhaustive.\n",
    "\n",
    "During assessment, there are also hidden tests we run to validate your code. <br>\n",
    "As you won't see the hidden tests, it's up to you to decide whether your code is correct.\n",
    "\n",
    "**Remember to save your work early and often.**"
   ]
  },
  {
   "cell_type": "markdown",
   "metadata": {
    "deletable": false,
    "editable": false,
    "nbgrader": {
     "cell_type": "markdown",
     "checksum": "c56abf5c00e0ed9433f20c7314596818",
     "grade": false,
     "grade_id": "cell-d85c9b5f84ca680c",
     "locked": true,
     "schema_version": 3,
     "solution": false,
     "task": false
    }
   },
   "source": [
    "## Marking\n",
    "\n",
    "***Graded cells***\n",
    "\n",
    "Cells that must be completed to receive marks are clearly labelled with the following text:\n",
    "\n",
    "`# -- GRADED CELL (N marks) - complete this cell --`\n",
    "\n",
    "Only add answers to these cells. \n",
    "\n",
    "Some cells are code cells, in which you must complete the code to solve a problem. <br>\n",
    "Others are markdown cells, in which you must write your answers to short-answer questions. \n",
    "\n",
    "<br>\n",
    "\n",
    "***Completing code cells***\n",
    "\n",
    "You will see the following text in graded code cells.\n",
    "\n",
    "``` python\n",
    "raise NotImplementedError()\n",
    "```\n",
    "\n",
    "You must remove the `raise NotImplementedError()` line from the cell, and replace it with your solution. <br>\n",
    "If you want to import a library or use a helper function, the import statements must be inside the function for that question. <br>\n",
    "For example:\n",
    "``` python\n",
    "# -- GRADED CELL (1 mark) - complete this cell --\n",
    "\n",
    "def build_simple_index(seq: str, k: int) -> dict:\n",
    "    from collections import defaultdict\n",
    "```\n",
    "\n",
    "Include code comments in your solutions! <br>\n",
    "Well commented code can help you to receive partial marks even if the final solution is incorrect. \n",
    "\n",
    "<br>\n",
    "\n",
    "***Editing the notebook***\n",
    "\n",
    "Only graded cells will be marked.\n",
    "- Do **NOT** enter solutions outside of graded cells\n",
    "- Do **NOT** duplicate or remove cells from the notebook\n",
    "- You may add new cells to test code, but new cells will not be graded.\n",
    "- Word limits, where stated, will be strictly enforced. Answers exceeding the limit **will not be marked**.\n",
    "\n",
    "<br>\n",
    "\n",
    "***Marks***\n",
    "\n",
    "The total marks for the assignment add up to 10. <br>\n",
    "This assignment will be worth 10% of your overall subject grade.<br>\n",
    "No marks are allocated to commenting in your code. <br>\n",
    "We do however, encourage efficient and well commented code.\n",
    "\n"
   ]
  },
  {
   "cell_type": "markdown",
   "metadata": {
    "deletable": false,
    "editable": false,
    "nbgrader": {
     "cell_type": "markdown",
     "checksum": "eca8282e009c15f1ac7618625c305a0e",
     "grade": false,
     "grade_id": "cell-63bfc30dfcac76c4",
     "locked": true,
     "schema_version": 3,
     "solution": false,
     "task": false
    }
   },
   "source": [
    "## Submission\n",
    "\n",
    "Make sure you have filled in any place that says `# -- GRADED CELL (N marks) - complete this cell --`.\n",
    "\n",
    "Before you turn this assignment in, make sure everything runs as expected, and the output is cleared. \n",
    "\n",
    "First, **restart the kernel**:\n",
    "\n",
    "- In the menubar, select Kernel -> Restart.\n",
    "\n",
    "Next, **run all cells**:\n",
    "\n",
    "- In the menubar, select Cell -> Run All.\n",
    "\n",
    "Finally, **clear all output**:\n",
    "\n",
    "- In the menubar, select Options -> Clear All Outputs\n",
    "\n",
    "Your completed notebook file containing all your answers must be turned in via LMS in `.ipynb` format. <br>\n",
    "You must also submit a copy of this notebook in `html` format with the output cleared.\n",
    "\n",
    "Your submission should include **only two** files with names formatted as: **Assignment1.ipynb** and **Assignment1.html**\n",
    "\n"
   ]
  },
  {
   "cell_type": "markdown",
   "metadata": {
    "deletable": false,
    "editable": false,
    "nbgrader": {
     "cell_type": "markdown",
     "checksum": "2726bab6786f9e725819cebae9813604",
     "grade": false,
     "grade_id": "cell-65b84f26795f1f00",
     "locked": true,
     "schema_version": 3,
     "solution": false,
     "task": false
    }
   },
   "source": [
    "<div style=\"background: rgb(255,165,0); border: solid 1px rgb(129,199,132); padding: 10px;\">    \n",
    "\n",
    "<h1>ASSIGNMENT 1</h1>\n",
    "\n",
    "<h2>Using BLAST to Identify Plastic-Degrading Genes</h2>\n",
    "\n",
    "</div>\n",
    "\n",
    "## Introduction \n",
    "\n",
    "For this assignment, pretend you have sequenced a previously undocumented bacteria.  \n",
    "The bacteria was isolated from a rubbish tip which contains large amounts of different plastics. \n",
    "You are curious know whether this unknown organism may have the ability to break down plastic. \n",
    "\n",
    "To test, you have sequenced & assembed the organism's genome, identified open-reading-frames (ORFs), and have translated each ORF into an amino acid sequence. \n",
    "This collection of amino acid sequences reflects the proteome of your unknown bacteria.\n",
    "You now plan to answer your research question by comparing the proteome to a database of previously known plastic-degrading proteins, to see if there are any matches. \n",
    "\n",
    "In this assignment we will explore strategies used by BLAST to match proteome proteins to the plastic database.\n",
    "Questions 1-5 provide a toolkit of techniques which you can use in Question 6 to identify plastic-degrading genes. \n",
    "\n",
    "- Q1: Build (& query) a k-mer index using *a single* sequence\n",
    "- Q2: Build (& query) a k-mer index using *multiple* sequences \n",
    "- Q3: Linking matched k-mers \n",
    "- Q4: Ungapped alignment \n",
    "- Q5: Gapped alignment \n",
    "- Q6: Identify plastic-degrading genes\n",
    "\n",
    "The final output of our code from Question 6 will be a list of tuples, where each tuple represents a sequence match between a protein from the 'unknown' bacteria, and a protein from the database. \n",
    "For example, if the protein named <small>`WP_003141008.1`</small> from our 'unknown' bacteria is similar to the <small>`00148||Protease||Amycolatopsis_orientalis||PLA`</small> protein in the plastic database, our output to the final question should contain the following tuple: \n",
    "<small>`('WP_003141008.1', '00148||Protease||Amycolatopsis_orientalis||PLA')`</small>\n",
    "\n",
    "Question 6 is a special question. You are free to implement Q6 however you wish, as long as indexing is used in some manner. \n",
    "You may call your previous functions from Q1-5, write new implementations for these functions, or rip it all up and use a custom strategy of your own. \n",
    "Points are awarded for both correctness ***and*** runtime performance in question 6, so you are incentivised to play around with your approach to find the most efficient strategy. \n"
   ]
  },
  {
   "cell_type": "markdown",
   "metadata": {
    "deletable": false,
    "editable": false,
    "nbgrader": {
     "cell_type": "markdown",
     "checksum": "9875927dd8914a2a40936db05e208cd4",
     "grade": false,
     "grade_id": "cell-e55f126d78eba323",
     "locked": true,
     "schema_version": 3,
     "solution": false,
     "task": false
    }
   },
   "source": [
    "## The Data\n",
    "\n",
    "To begin, let's have a look at the data we will be working with. \n",
    "\n",
    "Create a folder called 'data' in your working directory, then download both fasta files from the url below, and place them in the 'data' folder.<br>\n",
    "You can manually download these two files using a web browser, or use wget/curl on the command line. \n",
    "\n",
    "https://github.com/melbournebioinformatics/COMP90014_2024/tree/master/assignments/data. \n",
    "\n",
    "Our unknown organism ***proteome*** is read from a FASTA file (<small>`data/unknown.fasta`</small>) containing many protein sequences. <br>\n",
    "Each entry has a name, followed by the sequence.\n",
    "```\n",
    ">WP_000995360.1\n",
    "MNAYTVSRLALDAGVSVHIVRDYLLRGLLRPVACTPGGYGLFDDAALQRLCFVRAAFEAGIGLDALARLCRALDAADGDE\n",
    "AAAQLALLRQFVERRREALADLEVQLATLPTEPAQHAESLP\n",
    "```\n",
    "\n",
    "Our PlasticDB protein ***database*** is also read from a FASTA file (<small>`data/PlasticDB.fasta`</small>) containing many protein sequences. <br>\n",
    "The entry names are structured as <small>`> id || gene name || species || gene symbol`</small>.\n",
    "\n",
    "```\n",
    ">00001||PHB_depolymerase||Ralstonia_pickettii||PHB_PHA\n",
    "MKHPYGYRWHWLYALVVTLMTALATFSAHAAVTAGPGAWSSQQTWAADTVNGGNLTGYFYWPASQPTTPNGKRALVLVLH\n",
    "GCLQTASGDVIDNANGAGFNWKTIAEQYGAVVLAPNATGNVYSNHCWDYANTSPSRTSGHVGVLLDLVNRFVTNSQYAID\n",
    "PNQVYVAGLSSGGGMTMVLGCIAPDIFAGIGINAGPPPAITRWKIGVVPSGYTATTAANNCKAWAGSNASSFNTQIAGAV\n",
    "WGTSDYTVAQAYGPMDTAAFRQIYGGTFTQGAQVSISGGGTNTPYTDSNGKLRTHEISVSGMAHAWPAGTGGDNNNYVDA\n",
    "THINYPAFVMDYWVKNNLRAGSGPVQSAGTPTGLTVTGTTTTSVSLSWNAVTNATSYNVYRNGSKVGSSTSTTYTDTGLI\n",
    "AGTTYSYTVTEIDPTAGESAQSSAVSAKTQSSFACTATTASNYAHVQAGRAHDSGGIAYANGSNQSMGLDNVFYTNTLAQ\n",
    "TAAGYYVIGNCP\n",
    "```\n",
    "\n",
    "We will be using python tuples for any in-memory representation of these proteins. <br>\n",
    "Each protein will be formatted as a python tuple with the format (name, sequence). <br>\n",
    "Our datastructure is therefore a list of tuples <small>`list[Tuple[str, str]]`</small>, where each tuple represents a protein. \n"
   ]
  },
  {
   "cell_type": "markdown",
   "metadata": {
    "deletable": false,
    "editable": false,
    "nbgrader": {
     "cell_type": "markdown",
     "checksum": "040f272ba80ce5f3a2e4d63654490b5a",
     "grade": false,
     "grade_id": "cell-ef1c981649290ad9",
     "locked": true,
     "schema_version": 3,
     "solution": false,
     "task": false
    }
   },
   "source": [
    "## Type hints\n",
    "\n",
    "This assignment makes use of python type hints. \n",
    "\n",
    "The role of type hints is to tell the programmer (and the python interpreter) what datatype to expect for a given variable. <br>\n",
    "Python treats them similar to code comments, so they don't actually affect execution. <br>\n",
    "If you tell python that a variable called <small>`my_int`</small> is an integer, but actually pass a string, python will not throw an error. \n",
    "\n",
    "Run the cell below so that python understands the type hints in this assignment. \n"
   ]
  },
  {
   "cell_type": "code",
   "execution_count": 43,
   "metadata": {},
   "outputs": [],
   "source": [
    "from typing import Tuple, Any"
   ]
  },
  {
   "cell_type": "markdown",
   "metadata": {
    "deletable": false,
    "editable": false,
    "nbgrader": {
     "cell_type": "markdown",
     "checksum": "ea96940fdea252e88d73e93d82a8b346",
     "grade": false,
     "grade_id": "cell-02258b1b96ffb671",
     "locked": true,
     "schema_version": 3,
     "solution": false,
     "task": false
    }
   },
   "source": [
    "\n",
    "## Completing Questions\n",
    "\n",
    "**Keep it simple.**\n",
    "\n",
    "As a personal opinion, your first attempt to solve each question should be as simple as possible. <br>\n",
    "Your first priority is correct output, not efficiency. <br>\n",
    "Brute force implementations are 100% fine and will help you understand the question better. <br>\n",
    "If you have a working solution, you can optimise it later (in Question 6). \n",
    "\n",
    "**If having trouble with a question, move to the next one.**\n",
    "\n",
    "This may be relevant for Question 3, which can be tricky to get right.\n",
    "Question 6 may also pose a challenge. \n",
    "\n",
    "<br>\n"
   ]
  },
  {
   "cell_type": "markdown",
   "metadata": {
    "deletable": false,
    "editable": false,
    "nbgrader": {
     "cell_type": "markdown",
     "checksum": "822c7ae910debbe1bcaaa32a3e4e3004",
     "grade": false,
     "grade_id": "cell-94cca82159b086bb",
     "locked": true,
     "schema_version": 3,
     "solution": false,
     "task": false
    }
   },
   "source": [
    "\n",
    "<div style=\"color: rgb(0,0,0); background: #0096FF; border: solid 1px rgb(0,0,0); padding: 10px;\">\n",
    "\n",
    "<h2>Section A: K-mer indexes</h2>\n",
    "\n",
    "</div>\n",
    "\n",
    "### Background\n",
    "\n",
    "An important strategy used by BLAST is construction of a k-mer index. \n",
    "This index allows fast identification of exact subsequence (k-mer) matches between a query sequence, and the reference sequence(s) used to build the index. \n",
    "By scanning along the query sequence & extracting k-mers, we can do index lookups to find whether the k-mer was also present in the reference sequence(s).\n",
    "\n",
    "Position information of these k-mer matches can also be recovered if we:\n",
    "- [ref]   storing a list of positions for each ref k-mer\n",
    "- [query] keeping track of our position (as we extract each query k-mer)\n",
    "\n",
    "For our task, our k-mer index will be built from the PlasticDB protein sequences.\n",
    "This will enable us to rapidly identify identical subsequences in query proteins from the unknown proteome. \n",
    "\n",
    "There are many proteins in the PlasticDB database, so our index will eventually need to handle multiple sequences.\n",
    "We will start with a simplified problem, where we build a k-mer index from a *single* input protein sequence. \n",
    "We will then progress to index building (and query) using multiple protein sequences. \n",
    "\n",
    "<br>\n",
    "\n",
    "\n"
   ]
  },
  {
   "cell_type": "markdown",
   "metadata": {
    "deletable": false,
    "editable": false,
    "nbgrader": {
     "cell_type": "markdown",
     "checksum": "9418785fe76036c75be4adc0d86e88bc",
     "grade": false,
     "grade_id": "cell-5ec59bc77359de7d",
     "locked": true,
     "schema_version": 3,
     "solution": false,
     "task": false
    }
   },
   "source": [
    "<div style=\"color: rgb(27,94,32); background: rgb(200,230,201); border: solid 1px rgb(129,199,132); padding: 10px;\">\n",
    "<h3>Question 1a</h3>\n",
    "\n",
    "To start, let's build an index for a single protein in the PlasticDB database. \n",
    "\n",
    "<b>Challenge:</b> Write a function which generates a k-mer index from a single input sequence. \n",
    "- [ ] Input: A sequence (str); and k-mer size k (int)\n",
    "- [ ] Ouput: A python dictionary containing kmers as keys, and the locations they appear in the sequence (list of integers) as values. \n",
    "- [ ] Return an empty dictionary if inputs do not yield any kmers.\n",
    "\n",
    "Notes: \n",
    "- For each location in the sequence, you will need to extract a kmer of size k, then update your dictionary for that kmer and its new witnessed location. \n",
    "- The location of the first kmer you extract is loc = 0 (same as list indexing).  \n",
    "- Ensure you check the value of k is valid for the sequences. \n",
    "    \n",
    "</div>"
   ]
  },
  {
   "cell_type": "markdown",
   "metadata": {},
   "source": [
    "Return an empty dictionary if inputs do not yield any kmers.\n",
    "\n",
    "Notes: \n",
    "- For each location in the sequence, you will need to extract a kmer of size k, then update your dictionary for that kmer and its new witnessed location. \n",
    "- The location of the first kmer you extract is loc = 0 (same as list indexing).  \n",
    "- Ensure you check the value of k is valid for the sequences. \n",
    "    \n",
    "</div>"
   ]
  },
  {
   "cell_type": "code",
   "execution_count": 44,
   "metadata": {
    "deletable": false,
    "nbgrader": {
     "cell_type": "code",
     "checksum": "47a8a7dc694b92df44b00d25b4fd02d3",
     "grade": false,
     "grade_id": "cell-fed1c14faef08b06",
     "locked": false,
     "schema_version": 3,
     "solution": true,
     "task": false
    }
   },
   "outputs": [],
   "source": [
    "# -- GRADED CELL (1 mark) - complete this cell --\n",
    "\n",
    "def build_simple_index(seq: str, k: int) -> dict:\n",
    "    \n",
    "    if k <= 0 or k > len(seq):\n",
    "        return {}\n",
    "    \n",
    "    kmer_index = {}\n",
    "    for i in range (len(seq) - k + 1):\n",
    "        kmer = seq[i : i + k]\n",
    "        if kmer in kmer_index:\n",
    "            kmer_index[kmer].append(i)\n",
    "        else:\n",
    "            kmer_index[kmer] = [i]\n",
    "        \n",
    "    return kmer_index    "
   ]
  },
  {
   "cell_type": "code",
   "execution_count": 45,
   "metadata": {},
   "outputs": [
    {
     "name": "stdout",
     "output_type": "stream",
     "text": [
      "{'ATG': [0, 5], 'TGC': [1], 'GCG': [2], 'CGA': [3], 'GAT': [4, 7], 'TGA': [6], 'ATC': [8], 'TCG': [9]}\n"
     ]
    }
   ],
   "source": [
    "# extra code cell for development if needed\n",
    "sequence = \"ATGCGATGATCG\"\n",
    "k = 3\n",
    "index = build_simple_index (sequence, k)\n",
    "print(index)"
   ]
  },
  {
   "cell_type": "code",
   "execution_count": 46,
   "metadata": {
    "deletable": false,
    "editable": false,
    "nbgrader": {
     "cell_type": "code",
     "checksum": "37e7451b15ff642f96d22d7bb0837d7e",
     "grade": true,
     "grade_id": "cell-4a5cd79364eaadad",
     "locked": true,
     "points": 1,
     "schema_version": 3,
     "solution": false,
     "task": false
    }
   },
   "outputs": [
    {
     "name": "stdout",
     "output_type": "stream",
     "text": [
      "--- test ---\n",
      "EXPECTED\n",
      "MST [0]\n",
      "STL [1]\n",
      "TLS [2, 6]\n",
      "LSW [3]\n",
      "SWT [4]\n",
      "WTL [5]\n",
      "LSV [7]\n",
      "SVR [8]\n",
      "\n",
      "ACTUAL\n",
      "MST [0]\n",
      "STL [1]\n",
      "TLS [2, 6]\n",
      "LSW [3]\n",
      "SWT [4]\n",
      "WTL [5]\n",
      "LSV [7]\n",
      "SVR [8]\n"
     ]
    }
   ],
   "source": [
    "# Testing cell - Do not alter.\n",
    "\n",
    "print(\"--- test ---\")\n",
    "the_index = build_simple_index(\"MSTLSWTLSVR\", 3)\n",
    "print('EXPECTED')\n",
    "print('\\n'.join(['MST [0]','STL [1]','TLS [2, 6]','LSW [3]','SWT [4]','WTL [5]','LSV [7]','SVR [8]']))\n",
    "print('\\nACTUAL')\n",
    "for kmer, locs in the_index.items():\n",
    "    print(kmer, locs)\n"
   ]
  },
  {
   "cell_type": "markdown",
   "metadata": {
    "deletable": false,
    "editable": false,
    "nbgrader": {
     "cell_type": "markdown",
     "checksum": "db8609f00f7293cf21bd0ae4f1469194",
     "grade": false,
     "grade_id": "cell-ce3a9c3bdf9962aa",
     "locked": true,
     "schema_version": 3,
     "solution": false,
     "task": false
    }
   },
   "source": [
    "<div style=\"color: rgb(27,94,32); background: rgb(200,230,201); border: solid 1px rgb(129,199,132); padding: 10px;\">\n",
    "<h3>Question 1b</h3>\n",
    "\n",
    "Let's use our k-mer index to identify matching subsequences in a given query.\n",
    "\n",
    "<b>Challenge:</b> Write a function which finds ***all*** matching k-mers between a query sequence and an index (built from a reference sequence). \n",
    "- [ ] Input: A query sequence (str); a k-mer size k (int); a k-mer index (dict)\n",
    "- [ ] Ouput: A list of tuples representing k-mer matches, sorted by query sequence position (second element in tuple).\n",
    "- [ ] Return an empty list if no matching k-mers. \n",
    "\n",
    "The output tuples should have 3 elements each. \n",
    "1. the k-mer\n",
    "2. position in query sequence\n",
    "3. position in reference sequence\n",
    "\n",
    "For each matching k-mer, ensure all possible location combinations appear in the output. \n",
    "For example, if a given k-mer appears once in the query and twice in the reference, this should produce 2 tuples:\n",
    "- (kmer, query_pos, ref_pos_1)\n",
    "- (kmer, query_pos, ref_pos_2)\n",
    "\n",
    "    \n",
    "</div>"
   ]
  },
  {
   "cell_type": "code",
   "execution_count": 47,
   "metadata": {
    "deletable": false,
    "nbgrader": {
     "cell_type": "code",
     "checksum": "e474ebe58581a04d7ecfed23d4689339",
     "grade": false,
     "grade_id": "cell-a6cb9a62b1028321",
     "locked": false,
     "schema_version": 3,
     "solution": true,
     "task": false
    }
   },
   "outputs": [],
   "source": [
    "# -- GRADED CELL (1.5 marks) - complete this cell --\n",
    "\n",
    "def get_index_hits(query: str, k: int, the_index: dict) -> list[Tuple]:\n",
    "    \n",
    "    if k <= 0 or k > len(query):\n",
    "        return []\n",
    "    \n",
    "    matching_kmer = []\n",
    "    for i in range (len(query) - k + 1):\n",
    "        kmer = query[i : i + k]\n",
    "        if kmer in the_index:\n",
    "            for ref_pos in the_index[kmer]:\n",
    "                matching_kmer.append((kmer, i, ref_pos))\n",
    "                \n",
    "    matching_kmer.sort(key = lambda x: x[1])\n",
    "    return matching_kmer        "
   ]
  },
  {
   "cell_type": "code",
   "execution_count": 48,
   "metadata": {},
   "outputs": [],
   "source": [
    "# extra code cell for development if needed"
   ]
  },
  {
   "cell_type": "code",
   "execution_count": 49,
   "metadata": {
    "deletable": false,
    "editable": false,
    "nbgrader": {
     "cell_type": "code",
     "checksum": "4e7ea8b0ab7d73692ccee8a3610d7e66",
     "grade": true,
     "grade_id": "cell-71be148338ed8844",
     "locked": true,
     "points": 1.5,
     "schema_version": 3,
     "solution": false,
     "task": false
    }
   },
   "outputs": [
    {
     "name": "stdout",
     "output_type": "stream",
     "text": [
      "--- test ---\n",
      "EXPECTED\n",
      "MS 0 0\n",
      "ST 1 1\n",
      "TL 5 2\n",
      "LS 6 3\n",
      "LS 6 7\n",
      "ST 7 1\n",
      "\n",
      "ACTUAL\n",
      "MS 0 0\n",
      "ST 1 1\n",
      "TL 5 2\n",
      "LS 6 3\n",
      "LS 6 7\n",
      "ST 7 1\n"
     ]
    }
   ],
   "source": [
    "# Testing cell - Do not alter.\n",
    "\n",
    "the_index = {'MS': [0],'ST': [1],'TL': [2],'LS': [3, 7],'SW': [4],'WM': [5],'ML': [6],'SV': [8],'VR': [9]}\n",
    "print(\"--- test ---\")\n",
    "print('EXPECTED')\n",
    "print(\"\"\"\\\n",
    "MS 0 0\n",
    "ST 1 1\n",
    "TL 5 2\n",
    "LS 6 3\n",
    "LS 6 7\n",
    "ST 7 1\n",
    "\"\"\")\n",
    "\n",
    "print('ACTUAL')\n",
    "for kmer, pos1, pos2 in get_index_hits(\"MSTAWTLST\", 2, the_index):\n",
    "    print(kmer, pos1, pos2)\n"
   ]
  },
  {
   "cell_type": "markdown",
   "metadata": {
    "deletable": false,
    "editable": false,
    "nbgrader": {
     "cell_type": "markdown",
     "checksum": "8cb1bfa010749f37a7535f1305f9bbda",
     "grade": false,
     "grade_id": "cell-3a2d3560181b4220",
     "locked": true,
     "schema_version": 3,
     "solution": false,
     "task": false
    }
   },
   "source": [
    "<div style=\"color: rgb(27,94,32); background: rgb(200,230,201); border: solid 1px rgb(129,199,132); padding: 10px;\">\n",
    "<h3>Question 2</h3>\n",
    "\n",
    "Now that we have built & queried an index using a single sequence as input, let's progress to handling multiple protein sequences.\n",
    "\n",
    "Your k-mer index can have any structure you like. <br>\n",
    "As the implementation details are left to you, we don't know the structure of your index. \n",
    "For this reason, you will write two functions in this question:\n",
    "- <small>`build_index()`</small> which generates a k-mer index from multiple protein sequences\n",
    "- <small>`query_index()`</small> which queries your index for a given k-mer.\n",
    "    \n",
    "<b>Challenge 1:</b> Write a function called <small>`build_index()`</small> which builds a k-mer index from multiple input sequences.\n",
    "- [ ] Input: A list of (protein name, sequence) tuples (list[Tuple]); and a k-mer size k (int)\n",
    "- [ ] Ouput: A single object which represents your index. \n",
    "\n",
    "Return a single object which contains your index. <br>\n",
    "This could be a single flat dictionary, a nested dictionary, a list containing multiple dictionaries, a list of strings and a dictionary etc. \n",
    "This single object must be all that is required to pass to <small>`query_index()`</small> for proper function (aside from the k-mer to query). \n",
    "\n",
    "<b>Challenge 2:</b> Write a function called <small>`query_index()`</small> which queries your k-mer index.\n",
    "- [ ] Input: A query kmer (str); a k-mer index (Any)\n",
    "- [ ] Ouput: A list of (sequence name, list[location]) tuples.\n",
    "\n",
    "Your index will be built from multiple sequences. Therefore, the <small>`query_index()`</small> function can't return a simple list of integer locations where the k-mer 'appears'.   \n",
    "Instead, we need to return locations grouped by the sequence they're from. See the test case for an example.\n",
    "\n",
    "</div>"
   ]
  },
  {
   "cell_type": "code",
   "execution_count": 50,
   "metadata": {
    "deletable": false,
    "nbgrader": {
     "cell_type": "code",
     "checksum": "b65f09cb6300ec85064651dde7759fdc",
     "grade": false,
     "grade_id": "cell-ddda1a2592052497",
     "locked": false,
     "schema_version": 3,
     "solution": true,
     "task": false
    }
   },
   "outputs": [],
   "source": [
    "# -- GRADED CELL (1.5 marks) - complete this cell --\n",
    "\n",
    "def build_index(sequences: list[Tuple], k: int) -> Any:\n",
    "    \n",
    "    index = {}\n",
    "    for pro_nam, seq in sequences:\n",
    "        for i in range (len(seq) - k + 1):\n",
    "            kmer = seq[i : i + k]\n",
    "            if kmer not in index:\n",
    "                index[kmer] = []\n",
    "            index[kmer].append((pro_nam, i))\n",
    "    return index\n",
    "\n",
    "def query_index(kmer: str, the_index: Any) -> list[Tuple]:\n",
    "    \n",
    "    results = []\n",
    "    if kmer in the_index:\n",
    "        pro_mapping = {}\n",
    "        for pro_nam, position in the_index[kmer]:\n",
    "            if pro_nam not in pro_mapping:\n",
    "                pro_mapping[pro_nam] = []\n",
    "            pro_mapping[pro_nam].append(position)\n",
    "        \n",
    "        for pro_nam, positions in pro_mapping.items():\n",
    "            results.append((pro_nam, positions))\n",
    "    return results"
   ]
  },
  {
   "cell_type": "code",
   "execution_count": 51,
   "metadata": {},
   "outputs": [],
   "source": [
    "# extra code cell for development if needed"
   ]
  },
  {
   "cell_type": "code",
   "execution_count": 52,
   "metadata": {
    "deletable": false,
    "editable": false,
    "nbgrader": {
     "cell_type": "code",
     "checksum": "9a43876305f7fef1ac9f5f5c1a5ba195",
     "grade": true,
     "grade_id": "cell-4fa9ad9afc87f7aa",
     "locked": true,
     "points": 1.5,
     "schema_version": 3,
     "solution": false,
     "task": false
    }
   },
   "outputs": [
    {
     "name": "stdout",
     "output_type": "stream",
     "text": [
      "\n",
      "--- test ---\n",
      "\n",
      "expected ---\n",
      "name\t\tlocations\n",
      ">protein 1\t[4]\n",
      ">protein 2\t[2, 8]\n",
      "\n",
      "actual ---\n",
      "name\t\tlocations\n",
      ">protein 1\t[4]\n",
      ">protein 2\t[2, 8]\n"
     ]
    }
   ],
   "source": [
    "# Testing cell - Do not alter.\n",
    "\n",
    "print('\\n--- test ---')\n",
    "K = 3\n",
    "QUERY_KMER = 'YYY'\n",
    "REF_PROTEINS = [\n",
    "    ('>protein 1', 'MKHPYYYRW'), \n",
    "    ('>protein 2', 'MNYYYKNLYYYAT')\n",
    "]\n",
    "the_index = build_index(REF_PROTEINS, K)\n",
    "actual_hits = query_index(QUERY_KMER, the_index)\n",
    "expected_hits = [('>protein 1', [4]), ('>protein 2', [2, 8])]\n",
    "print('\\nexpected ---')\n",
    "print('name\\t\\tlocations')\n",
    "for seqname, locs in expected_hits:\n",
    "    print(str(seqname) + '\\t' + str(locs))\n",
    "print('\\nactual ---')\n",
    "print('name\\t\\tlocations')\n",
    "for seqname, locs in actual_hits:\n",
    "    print(str(seqname) + '\\t' + str(locs))\n"
   ]
  },
  {
   "cell_type": "markdown",
   "metadata": {
    "deletable": false,
    "editable": false,
    "nbgrader": {
     "cell_type": "markdown",
     "checksum": "f9643e02a3fd5fcb80aef1b1bbe187c1",
     "grade": false,
     "grade_id": "cell-9837da78f24bd191",
     "locked": true,
     "schema_version": 3,
     "solution": false,
     "task": false
    }
   },
   "source": [
    "\n",
    "<div style=\"color: rgb(0,0,0); background: #0096FF; border: solid 1px rgb(0,0,0); padding: 10px;\">\n",
    "\n",
    "<h2>Section B: High-Scoring Segment Pairs (HSPs)</h2>\n",
    "\n",
    "</div>\n",
    "\n",
    "### Background\n",
    "\n",
    "Rather than directly using k-mer matches as seed locations for pairwise alignment, BLAST performs another heuristic step to further refine its list of candidate locations. \n",
    "This next step uses k-mer hits to identify 'high-scoring segment pairs' (HSPs), which are larger regions of similarity between the query and reference sequence. \n",
    "The span of this region must be equal in both sequences, but can be any arbitrary size (ie 10bp, 100bp etc).\n",
    "\n",
    "HSPs are identified between a pair of sequences using the following broad steps: \n",
    "1. Identify short matching subsequences (k-mers).\n",
    "2. Link k-mer matches to form a chain if they're colinear (same relative spacing in both sequences) and close to each other. \n",
    "3. Fill gaps & extend the segment ends to form a HSP. \n",
    "\n",
    "Regarding step (2) above, the linked k-mers form the initial backbone of a HSP.  <br>\n",
    "The rules for this linking process in BLAST are relatively complex.  <br>\n",
    "For this reason we will simplify step 2 by changing the rules:\n",
    "- We will only link 2 kmers.\n",
    "- If there are multiple valid chains, we will return the leftmost (earliest in sequence) from the perspective of the query.\n",
    "- If there are multiple kmers we can link from a given starting kmer, we will link the closest.\n",
    "\n",
    "See the figure below for a diagram of two linked k-mer matches forming a chain.\n",
    "\n",
    "<img src=\"https://raw.githubusercontent.com/melbournebioinformatics/COMP90014_2024/master/assignments/media/hsp.png\" width=\"700\">\n",
    "\n",
    "<br>\n"
   ]
  },
  {
   "cell_type": "markdown",
   "metadata": {
    "deletable": false,
    "editable": false,
    "nbgrader": {
     "cell_type": "markdown",
     "checksum": "6df9f3884de5a78326e5b24e71c3671e",
     "grade": false,
     "grade_id": "cell-bea53bc63f6da40d",
     "locked": true,
     "schema_version": 3,
     "solution": false,
     "task": false
    }
   },
   "source": [
    "<div style=\"color: rgb(27,94,32); background: rgb(200,230,201); border: solid 1px rgb(129,199,132); padding: 10px;\">\n",
    "<h3>Question 3</h3>\n",
    "\n",
    "<b>Challenge:</b> Write a function which queries your k-mer index to identify & link a valid chain of two k-mer matches. \n",
    "- [ ] Input: A query sequence (str); a k-mer size k (int); a k-kmer index (dict); the maximum spacing between k-mers (int). \n",
    "- [ ] Output: A k-mer chain represented as a tuple of integers (Tuple[int, int, int]).\n",
    "- [ ] Return None if there are no valid chains. \n",
    "\n",
    "The output tuple should contain three items:\n",
    "- The first item encodes the start position of kmer1 in the query sequence. \n",
    "- The second item encodes the start position of kmer1 in the reference sequence (obtained using your k-mer index). \n",
    "- The third item is the spacing distance between kmer1 & kmer2. \n",
    "\n",
    "Additional instructions: \n",
    "- Only link 2 k-mer matches to form a chain.\n",
    "- The spacing between kmer1 and kmer2 must be ***identical*** in both the query sequence and the index (built from reference sequence). \n",
    "- The spans of kmer1 and kmer2 cannot overlap.\n",
    "- If there are multiple valid chains, return the leftmost (earliest in sequence) from the perspective of the query.\n",
    "- If there are multiple linkable k-mers from a given starting k-mer, link the closest.\n",
    "    \n",
    "</div>"
   ]
  },
  {
   "cell_type": "code",
   "execution_count": 53,
   "metadata": {
    "deletable": false,
    "nbgrader": {
     "cell_type": "code",
     "checksum": "e7628f49fe70a15da755379f54798d82",
     "grade": false,
     "grade_id": "cell-c7ab524b38f56839",
     "locked": false,
     "schema_version": 3,
     "solution": true,
     "task": false
    }
   },
   "outputs": [],
   "source": [
    "# -- GRADED CELL (1 mark) - complete this cell --\n",
    "\n",
    "def link_kmers(query: str, k: int, the_index: dict, max_spacing: int) -> Tuple[int, int, int] | None:\n",
    "    best_result = None\n",
    "    \n",
    "    # Loop through each possible starting position of a k-mer in the query sequence\n",
    "    for i in range(len(query) - k + 1):\n",
    "        kmer1 = query[i:i+k]\n",
    "        \n",
    "        # Check if the current k-mer is in the index\n",
    "        if kmer1 in the_index:\n",
    "            # Get all starting positions of this k-mer in the reference sequence\n",
    "            ref_positions = the_index[kmer1]\n",
    "            \n",
    "            # Now check for a second k-mer within the allowed spacing\n",
    "            for j in range(i + k, min(i + k + max_spacing + 1, len(query) - k + 1)):\n",
    "                kmer2 = query[j:j+k]\n",
    "                \n",
    "                # Check if the second k-mer is the same as the first and is in the index\n",
    "                if kmer2 in the_index:\n",
    "                    \n",
    "                    # Check all positions of the second k-mer in the reference sequence\n",
    "                    for ref_pos1 in ref_positions:\n",
    "                        distance_kmer = j - i\n",
    "                        expected_ref_pos2 = ref_pos1 + distance_kmer\n",
    "                        spacing = distance_kmer - k\n",
    "                        \n",
    "                        # Check if the expected position is in the actual positions of the second k-mer\n",
    "                        if expected_ref_pos2 in the_index[kmer2]:\n",
    "                            # Select the smallest starting index and corresponding reference position\n",
    "                            if best_result is None or (i < best_result[0]) or (i == best_result[0] and ref_pos1 < best_result[1]):\n",
    "                                best_result = (i, ref_pos1, spacing)\n",
    "\n",
    "    return best_result"
   ]
  },
  {
   "cell_type": "code",
   "execution_count": 54,
   "metadata": {},
   "outputs": [],
   "source": [
    "# extra code cell for development if needed"
   ]
  },
  {
   "cell_type": "code",
   "execution_count": 55,
   "metadata": {
    "deletable": false,
    "editable": false,
    "nbgrader": {
     "cell_type": "code",
     "checksum": "72fa42f67af85555974fec8575c27690",
     "grade": true,
     "grade_id": "cell-dbd58b083dc48504",
     "locked": true,
     "points": 1,
     "schema_version": 3,
     "solution": false,
     "task": false
    }
   },
   "outputs": [
    {
     "name": "stdout",
     "output_type": "stream",
     "text": [
      "[Test 1]: Expected=(4, 4, 3) Actual=(4, 4, 3)\n",
      "[Test 2]: Expected=(4, 4, 3) Actual=(4, 4, 3)\n",
      "[Test 3]: Expected=(3, 6, 4) Actual=(3, 6, 4)\n"
     ]
    }
   ],
   "source": [
    "# Testing cell - Do not alter.\n",
    "\n",
    "K = 3\n",
    "MAX_SPACING = 5\n",
    "\n",
    "# test1: only 1 valid chain ---\n",
    "the_index = {'ACC': [0], 'CCA': [1], 'CAT': [2], 'ATA': [3], 'TAG': [4, 9], 'AGC': [5], 'GCG': [6], 'CGT': [7], 'GTA': [8], 'AGT': [10], 'GTG': [11], 'TGC': [12], 'GCA': [13], 'CAG': [14], 'AGA': [15], 'GAA': [16]}\n",
    "query = \"TACGTAGAGAAGTCGATGC\"\n",
    "chain = link_kmers(query, K, the_index, MAX_SPACING)\n",
    "print(f'[Test 1]: Expected=(4, 4, 3) Actual={chain}')\n",
    "\n",
    "# test2: multiple valid spacings ---\n",
    "the_index = {'ACC': [0], 'CCA': [1, 13], 'CAT': [2], 'ATA': [3], 'TAG': [4, 9], 'AGC': [5], 'GCG': [6], 'CGT': [7], 'GTA': [8], 'AGT': [10], 'GTC': [11], 'TCC': [12], 'CAG': [14], 'AGA': [15], 'GAA': [16]}\n",
    "query = \"TACGTAGAGAAGTCGATGC\"\n",
    "chain = link_kmers(query, K, the_index, MAX_SPACING)\n",
    "print(f'[Test 2]: Expected=(4, 4, 3) Actual={chain}')\n",
    "\n",
    "# test3: multiple valid chains ---\n",
    "the_index = {'ACC': [0], 'CCA': [1], 'CAT': [2], 'ATA': [3], 'TAG': [4, 7, 12], 'AGT': [5, 13], 'GTA': [6, 11], 'AGC': [8], 'GCG': [9], 'CGT': [10], 'GTG': [14], 'TGT': [15], 'GTT': [16], 'TTT': [17], 'TTC': [18], 'TCA': [19]}\n",
    "query = \"TACGTAGAGAAGTCTTTGA\"\n",
    "chain = link_kmers(query, K, the_index, MAX_SPACING)\n",
    "print(f'[Test 3]: Expected=(3, 6, 4) Actual={chain}')\n",
    "\n"
   ]
  },
  {
   "cell_type": "markdown",
   "metadata": {
    "deletable": false,
    "editable": false,
    "nbgrader": {
     "cell_type": "markdown",
     "checksum": "ae5c5114de1a49389d6a828b954235bb",
     "grade": false,
     "grade_id": "cell-5758d614ed5baa05",
     "locked": true,
     "schema_version": 3,
     "solution": false,
     "task": false
    }
   },
   "source": [
    "<div style=\"color: rgb(27,94,32); background: rgb(200,230,201); border: solid 1px rgb(129,199,132); padding: 10px;\">\n",
    "<h3>Question 4</h3>\n",
    "\n",
    "Now that we have a chain of 2 k-mer matches, we will use ungapped alignment to fill the gap and extend in either direction to form a HSP. \n",
    "\n",
    "Here we will refer to the query sequence as 'seq1', and the reference sequence (used to build k-mer index) as 'seq2'. <br>\n",
    "Note that we will not be using a k-mer index, as need to directly compare seq1 and seq2.\n",
    "    \n",
    "<b>Challenge:</b> Write a function which fills & extends a k-kmer chain. \n",
    "- [ ] Input: seq1 (str); seq2 (str); a tuple representing a k-mer chain (Tuple[int, int, int]); a k-mer size k (int); max_mismatches (int)\n",
    "- [ ] Output: A tuple representing the HSP span (Tuple[int, int, int])\n",
    "- [ ] Return None if filling the gap exceeds max_mismatches.\n",
    "\n",
    "Keep in mind that the width of the output HSP is identical in both sequences. Conversely, the relative start location of the HSP can differ in seq1 vs seq2. <br>\n",
    "The output tuple should therefore contain three items:\n",
    "- The HSP start position in seq1.\n",
    "- The HSP start position in seq2.\n",
    "- The width of the HSP.\n",
    "\n",
    "Additional instructions:\n",
    "- Fill the gap between k-mer matches first.\n",
    "- If filling the gap exceeds max_mismatches, return None.\n",
    "- The number of mismatches encountered during gap filling should deduct from max_mismatches. \n",
    "- Use hamming distance to extend the HSP on either end, until max_mismatches (reduced).\n",
    "- Mismatches encountered during extension of one HSP end ***does not*** alter max_mismatches for the other HSP end.\n",
    "\n",
    "Note: a value for k-mer size (k) is required to identify the gap section from both sequences, and the downstream k-mer end. \n",
    "</div>"
   ]
  },
  {
   "cell_type": "code",
   "execution_count": 56,
   "metadata": {
    "deletable": false,
    "nbgrader": {
     "cell_type": "code",
     "checksum": "2cb32a27d66fe63d4338e5b867d3e41e",
     "grade": false,
     "grade_id": "cell-183649dc2cee5d52",
     "locked": false,
     "schema_version": 3,
     "solution": true,
     "task": false
    }
   },
   "outputs": [],
   "source": [
    "# -- GRADED CELL (1 mark) - complete this cell --\n",
    "def ungapped_extension(seq1: str, seq2: str, chain: Tuple, k: int, max_mismatches: int) -> Tuple[int, int, int] | None:\n",
    "    kmer1_start1, kmer1_start2, spacing = chain\n",
    "    kmer2_start1 = kmer1_start1 + k + spacing\n",
    "    kmer2_start2 = kmer1_start2 + k + spacing\n",
    "\n",
    "    # Handling the gap mismatches first\n",
    "    gap_seq1 = seq1[kmer1_start1 + k:kmer2_start1]\n",
    "    gap_seq2 = seq2[kmer1_start2 + k:kmer2_start2]\n",
    "    mismatches = sum(1 for a, b in zip(gap_seq1, gap_seq2) if a != b)\n",
    "\n",
    "    if mismatches > max_mismatches:\n",
    "        return None\n",
    "\n",
    "    remaining_mismatches = max_mismatches - mismatches\n",
    "\n",
    "    # Extend left from the start of the first k-mer\n",
    "    extended_start1, extended_start2 = kmer1_start1, kmer1_start2\n",
    "    while extended_start1 > 0 and extended_start2 > 0:\n",
    "        extended_start1 -= 1\n",
    "        extended_start2 -= 1\n",
    "        if seq1[extended_start1] != seq2[extended_start2]:\n",
    "            if remaining_mismatches == 0:\n",
    "                extended_start1 += 1\n",
    "                extended_start2 += 1\n",
    "                break\n",
    "            remaining_mismatches -= 1\n",
    "\n",
    "    # Extend right from the end of the second k-mer\n",
    "    extended_end1, extended_end2 = kmer2_start1 + k - 1, kmer2_start2 + k - 1  # up to the last character of the second k-mer\n",
    "    while extended_end1 < len(seq1) and extended_end2 < len(seq2):\n",
    "        if seq1[extended_end1] != seq2[extended_end2]:\n",
    "            if remaining_mismatches == 0:\n",
    "                break\n",
    "            remaining_mismatches -= 1\n",
    "        extended_end1 += 1\n",
    "        extended_end2 += 1\n",
    "\n",
    "    hsp_length = extended_end1 - extended_start1 # Calculating the length including both ends\n",
    "    return (extended_start1, extended_start2, hsp_length)"
   ]
  },
  {
   "cell_type": "code",
   "execution_count": 57,
   "metadata": {},
   "outputs": [],
   "source": [
    "# extra code cell for development if needed"
   ]
  },
  {
   "cell_type": "code",
   "execution_count": 58,
   "metadata": {
    "deletable": false,
    "editable": false,
    "nbgrader": {
     "cell_type": "code",
     "checksum": "14b397f2ec59ded606be3d925a62d5b6",
     "grade": true,
     "grade_id": "cell-7267140282632523",
     "locked": true,
     "points": 1,
     "schema_version": 3,
     "solution": false,
     "task": false
    }
   },
   "outputs": [
    {
     "name": "stdout",
     "output_type": "stream",
     "text": [
      "test1: expected=(4, 4, 15)  actual=(4, 4, 15)\n",
      "test2: expected=(3, 4, 17)  actual=(3, 4, 16)\n"
     ]
    }
   ],
   "source": [
    "# Testing cell - Do not alter.\n",
    "\n",
    "# test1: should extend right hand side by 2 ---\n",
    "seq1 = '----KMER1---KMER2-----'\n",
    "seq2 = '++++KMER1---KMER2--++-'\n",
    "chain = (4, 4, 3)\n",
    "actual = ungapped_extension(seq1, seq2, chain, k=5, max_mismatches=0)\n",
    "print(f'test1: expected=(4, 4, 15)  actual={actual}')\n",
    "\n",
    "# test2: mismatch in gap, sequences are offset ---\n",
    "seq1 = '----KMER1---KMER2-----'\n",
    "seq2 = 'x++++KMER1-+-KMER2--++-'\n",
    "chain = (4, 5, 3)\n",
    "actual = ungapped_extension(seq1, seq2, chain, k=5, max_mismatches=2)\n",
    "print(f'test2: expected=(3, 4, 17)  actual={actual}')\n",
    "\n"
   ]
  },
  {
   "cell_type": "markdown",
   "metadata": {
    "deletable": false,
    "editable": false,
    "nbgrader": {
     "cell_type": "markdown",
     "checksum": "e3c1545feab2c73874b0871ba646ec57",
     "grade": false,
     "grade_id": "cell-847c2124d228dc40",
     "locked": true,
     "schema_version": 3,
     "solution": false,
     "task": false
    }
   },
   "source": [
    "<div style=\"color: rgb(0,0,0); background: #0096FF; border: solid 1px rgb(0,0,0); padding: 10px;\">\n",
    "\n",
    "<h2>Section C: Final Alignment & Identifying Plastic Degrading Proteins</h2>\n",
    "\n",
    "</div>\n",
    "\n",
    "### Background\n",
    "\n",
    "The process thus far aims to vastly reduce the number of candidate locations for a final pairwise alignment between two sequences. <br>\n",
    "The HSPs produced in question 4 represent these candidate regions.\n",
    "\n",
    "Up to this point we have:\n",
    "- Indexed a reference sequence using k-mers\n",
    "- Extracted k-mers from a query sequence to find exact subsequence matches\n",
    "- Linked these exact matches into a chain\n",
    "- Filled the gap & extended the ends to finalise our HSP. \n",
    "\n",
    "The final, comprehensive assessment of similarity between the two sequences will be to perform pairwise alignment using these candidate regions. \n",
    "\n",
    "***Wait, so what was all this for??***\n",
    "\n",
    "Keep in mind that we have only been comparing a ***single*** query sequence to a ***single*** reference sequence.  <br>\n",
    "Our ultimate goal is a bit different. For a given protein in our 'unknown' organism, we want to find whether there is similarity to ***any*** of the PlasticDB database proteins. <br>\n",
    "Since there are 219 protein sequences in the PlasticDB database, for each 'unknown' protein we need to check all 219 PlasticDB proteins for similarity. <br>\n",
    "Rather than doing 219 pairwise alignments for a given 'unknown' protein (inefficient), the steps above reduce this to just a few (if any) candidate locations to assess.\n",
    "\n",
    "***The final 2 questions***\n",
    "\n",
    "*Question 5* \n",
    "\n",
    "Question 5 implements the final assessment of similarity between two sequences - pairwise alignment. \n",
    "Using a HSP as a candidate region, we will perform local (smith-waterman) alignment to produce a final assessment of similarity. \n",
    "We will use local alignment (rather than global alignment) because this is what BLAST uses (and for good reason!). \n",
    "\n",
    "*Question 6* \n",
    "\n",
    "Here we will put everything together. All sequences from the 'unknown' organism proteome will be compared to PlasticDB proteins to find sequence similarity. <br>\n",
    "We will:\n",
    "- Read the PlasticDB proteins from file to create a k-mer index from all sequences (reference).\n",
    "- Read the 'unknown' organism proteins from file.\n",
    "- For each query protein (from the 'unknown' organism), assess whether it has similarity to any PlasticDB proteins. \n",
    "\n",
    "You are free to implement Question 6 however you like (as long as indexing is used in some form!).\n",
    "Questions 1-5 are a toolkit of strategies which you can use in Question 6. \n",
    "You are encouraged to play around with your functions & overall strategy in question 6 to optimise efficiency.\n",
    "Extra points are awarded for fast execution (on a standard test computer).\n",
    "\n",
    "<br>\n",
    "\n"
   ]
  },
  {
   "cell_type": "markdown",
   "metadata": {
    "deletable": false,
    "editable": false,
    "nbgrader": {
     "cell_type": "markdown",
     "checksum": "0a03eae5cfcd6f0454d7079e1286010c",
     "grade": false,
     "grade_id": "cell-c5754ae3be58cc49",
     "locked": true,
     "schema_version": 3,
     "solution": false,
     "task": false
    }
   },
   "source": [
    "<div style=\"color: rgb(27,94,32); background: rgb(200,230,201); border: solid 1px rgb(129,199,132); padding: 10px;\">\n",
    "<h3>Question 5</h3>\n",
    "\n",
    "Up to this point we have not allowed gaps (caused by indels) between any two sequences. <br>\n",
    "Here we perform a final pairwise alignment, which allows gaps.\n",
    "\n",
    "<b>Challenge:</b> Write a function which performs local alignment between two sequences. \n",
    "- [ ] Input: seq1 (str), seq2 (str), a HSP (Tuple[int, int, int]), min_score (int) \n",
    "- [ ] Output: a Bio.PairwiseAlignment object\n",
    "- [ ] Return None if the alignment score is less than min_score.\n",
    "\n",
    "Use the Bio.Align.PairwiseAligner class from Biopython to perform alignment. <br>\n",
    "See the cell below for an example of using PairwiseAligner. \n",
    "- Call the .align() function to do alignment.\n",
    "- The .align() function returns a list of alignments, where the first item is the best alignment.\n",
    "- The score for an alignment can be retrieved via the .score property.\n",
    "- Documentation can be seen at https://biopython.org/docs/dev/api/Bio.Align.html if needed. \n",
    "\n",
    "<br>\n",
    "\n",
    "***Note*** \n",
    "\n",
    "The challenge of this question is to properly define the alignment window of the two sequences.\n",
    "\n",
    "Keep in mind that <small>`seq1`</small> can be much smaller than <small>`seq2`</small>. \n",
    "We wish to use *local alignment* rather than *semi-global alignment*, so cannot just provide the full sequence of seq2. <br>\n",
    "Therefore we should align ***all*** of <small>`seq1`</small> to a reasonable ***section*** of <small>`seq2`</small>. <br>\n",
    "This section of <small>`seq2`</small> can be identified using the HSP tuple, and the length of <small>`seq1`</small>. <br>\n",
    "In the example below, we would select the section [10, 26] from <small>`seq2`</small> for alignment. \n",
    "\n",
    "```\n",
    "# Info: The HSP tuple is comprised of (seq1_start, seq2_start, width)\n",
    "\n",
    "HSP:  (4, 14, 9)\n",
    "                      |- HSP -|\n",
    "seq1:            CATS GGGGGGGAA ACGG\n",
    "seq2: ATATATATAT TAGA GGGGGGGTA GCCG AATTAATATATATATATTATA\n",
    "                 ^10             26^\n",
    "\n",
    "```\n",
    "<br>\n",
    "\n",
    "\n",
    "\n",
    "</div>"
   ]
  },
  {
   "cell_type": "code",
   "execution_count": 59,
   "metadata": {},
   "outputs": [
    {
     "ename": "ModuleNotFoundError",
     "evalue": "No module named 'Bio'",
     "output_type": "error",
     "traceback": [
      "\u001b[0;31m---------------------------------------------------------------------------\u001b[0m",
      "\u001b[0;31mModuleNotFoundError\u001b[0m                       Traceback (most recent call last)",
      "Cell \u001b[0;32mIn[59], line 3\u001b[0m\n\u001b[1;32m      1\u001b[0m \u001b[38;5;66;03m# PairwiseAligner example\u001b[39;00m\n\u001b[0;32m----> 3\u001b[0m \u001b[38;5;28;01mimport\u001b[39;00m \u001b[38;5;21;01mBio\u001b[39;00m\u001b[38;5;21;01m.\u001b[39;00m\u001b[38;5;21;01mAlign\u001b[39;00m\n\u001b[1;32m      4\u001b[0m aligner \u001b[38;5;241m=\u001b[39m Bio\u001b[38;5;241m.\u001b[39mAlign\u001b[38;5;241m.\u001b[39mPairwiseAligner()\n\u001b[1;32m      5\u001b[0m aligner\u001b[38;5;241m.\u001b[39mmode \u001b[38;5;241m=\u001b[39m \u001b[38;5;124m'\u001b[39m\u001b[38;5;124mlocal\u001b[39m\u001b[38;5;124m'\u001b[39m\n",
      "\u001b[0;31mModuleNotFoundError\u001b[0m: No module named 'Bio'"
     ]
    }
   ],
   "source": [
    "# PairwiseAligner example\n",
    "\n",
    "import Bio.Align\n",
    "aligner = Bio.Align.PairwiseAligner()\n",
    "aligner.mode = 'local'\n",
    "alignments = aligner.align(\"GAACT\", \"GAT\")\n",
    "alignment = alignments[0]\n",
    "print(alignment)\n"
   ]
  },
  {
   "cell_type": "code",
   "execution_count": null,
   "metadata": {
    "deletable": false,
    "nbgrader": {
     "cell_type": "code",
     "checksum": "07201aabe5ba45df4bdd5d5ed6b0fc88",
     "grade": false,
     "grade_id": "cell-147a2ecd221a2d1d",
     "locked": false,
     "schema_version": 3,
     "solution": true,
     "task": false
    }
   },
   "outputs": [
    {
     "ename": "ModuleNotFoundError",
     "evalue": "No module named 'Bio'",
     "output_type": "error",
     "traceback": [
      "\u001b[0;31m---------------------------------------------------------------------------\u001b[0m",
      "\u001b[0;31mModuleNotFoundError\u001b[0m                       Traceback (most recent call last)",
      "Cell \u001b[0;32mIn[19], line 2\u001b[0m\n\u001b[1;32m      1\u001b[0m \u001b[38;5;66;03m# -- GRADED CELL (1 mark) - complete this cell --\u001b[39;00m\n\u001b[0;32m----> 2\u001b[0m \u001b[38;5;28;01mimport\u001b[39;00m \u001b[38;5;21;01mBio\u001b[39;00m\u001b[38;5;21;01m.\u001b[39;00m\u001b[38;5;21;01mAlign\u001b[39;00m\n\u001b[1;32m      4\u001b[0m \u001b[38;5;28;01mdef\u001b[39;00m \u001b[38;5;21mlocal_alignment\u001b[39m(seq1: \u001b[38;5;28mstr\u001b[39m, seq2: \u001b[38;5;28mstr\u001b[39m, hsp: Tuple[\u001b[38;5;28mint\u001b[39m, \u001b[38;5;28mint\u001b[39m, \u001b[38;5;28mint\u001b[39m], min_score: \u001b[38;5;28mint\u001b[39m) \u001b[38;5;241m-\u001b[39m\u001b[38;5;241m>\u001b[39m Bio\u001b[38;5;241m.\u001b[39mAlign\u001b[38;5;241m.\u001b[39mAlignment \u001b[38;5;241m|\u001b[39m \u001b[38;5;28;01mNone\u001b[39;00m:\n\u001b[1;32m      5\u001b[0m     aligner \u001b[38;5;241m=\u001b[39m Bio\u001b[38;5;241m.\u001b[39mAlign\u001b[38;5;241m.\u001b[39mPairwiseAligner()\n",
      "\u001b[0;31mModuleNotFoundError\u001b[0m: No module named 'Bio'"
     ]
    }
   ],
   "source": [
    "# -- GRADED CELL (1 mark) - complete this cell --\n",
    "import Bio.Align\n",
    "\n",
    "def local_alignment(seq1: str, seq2: str, hsp: Tuple[int, int, int], min_score: int) -> Bio.Align.Alignment | None:\n",
    "    aligner = Bio.Align.PairwiseAligner()\n",
    "    aligner.mode = 'local'  # Change to global alignment\n",
    "\n",
    "    # Extract start and width from the HSP tuple\n",
    "    seq1_start, seq2_start, width = hsp\n",
    "    \n",
    "    # Calculate the end indices, ensuring we do not go out of bounds\n",
    "    seq1_end = min(seq1_start + width, len(seq1))\n",
    "    seq2_end = min(seq2_start + width, len(seq2))\n",
    "    \n",
    "    # Extract regions for alignment based on the HSP tuple\n",
    "    seq1_region = seq1[seq1_start - min_score : seq1_end + min_score + 1]\n",
    "    seq2_region = seq2[seq2_start - min_score : seq2_end + min_score + 1]\n",
    "\n",
    "    # Perform alignment\n",
    "    alignments = aligner.align(seq1_region, seq2_region)\n",
    "\n",
    "    # Check for alignments and if the best score meets the minimum score requirement\n",
    "    if alignments and alignments[0].score >= min_score:\n",
    "        return alignments[0]\n",
    "    else:\n",
    "        return None\n",
    "    "
   ]
  },
  {
   "cell_type": "code",
   "execution_count": null,
   "metadata": {},
   "outputs": [],
   "source": [
    "# extra code cell for development if needed\n"
   ]
  },
  {
   "cell_type": "code",
   "execution_count": null,
   "metadata": {
    "deletable": false,
    "editable": false,
    "nbgrader": {
     "cell_type": "code",
     "checksum": "b798d87218f4828dc01d2a79e7f5c1ac",
     "grade": true,
     "grade_id": "cell-eed21971ed8a9cf0",
     "locked": true,
     "points": 1,
     "schema_version": 3,
     "solution": false,
     "task": false
    }
   },
   "outputs": [
    {
     "name": "stdout",
     "output_type": "stream",
     "text": [
      "\n",
      "--- test1 ---\n",
      "\n",
      "[expected]\n",
      "target            0 GGGG 4\n",
      "                  0 |||| 4\n",
      "query             0 GGGG 4\n",
      "\n",
      "[actual]\n"
     ]
    },
    {
     "ename": "NameError",
     "evalue": "name 'local_alignment' is not defined",
     "output_type": "error",
     "traceback": [
      "\u001b[0;31m---------------------------------------------------------------------------\u001b[0m",
      "\u001b[0;31mNameError\u001b[0m                                 Traceback (most recent call last)",
      "Cell \u001b[0;32mIn[2], line 15\u001b[0m\n\u001b[1;32m      9\u001b[0m \u001b[38;5;28mprint\u001b[39m(\u001b[38;5;124m\"\"\"\u001b[39m\u001b[38;5;130;01m\\\u001b[39;00m\n\u001b[1;32m     10\u001b[0m \u001b[38;5;124mtarget            0 GGGG 4\u001b[39m\n\u001b[1;32m     11\u001b[0m \u001b[38;5;124m                  0 |||| 4\u001b[39m\n\u001b[1;32m     12\u001b[0m \u001b[38;5;124mquery             0 GGGG 4\u001b[39m\n\u001b[1;32m     13\u001b[0m \u001b[38;5;124m\"\"\"\u001b[39m)\n\u001b[1;32m     14\u001b[0m \u001b[38;5;28mprint\u001b[39m(\u001b[38;5;124m'\u001b[39m\u001b[38;5;124m[actual]\u001b[39m\u001b[38;5;124m'\u001b[39m)\n\u001b[0;32m---> 15\u001b[0m \u001b[38;5;28mprint\u001b[39m(\u001b[43mlocal_alignment\u001b[49m(seq1, seq2, hsp, \u001b[38;5;241m4\u001b[39m))\n\u001b[1;32m     17\u001b[0m \u001b[38;5;66;03m# test2: low score ---\u001b[39;00m\n\u001b[1;32m     18\u001b[0m \u001b[38;5;28mprint\u001b[39m(\u001b[38;5;124m'\u001b[39m\u001b[38;5;130;01m\\n\u001b[39;00m\u001b[38;5;124m--- test2 ---\u001b[39m\u001b[38;5;130;01m\\n\u001b[39;00m\u001b[38;5;124m'\u001b[39m)\n",
      "\u001b[0;31mNameError\u001b[0m: name 'local_alignment' is not defined"
     ]
    }
   ],
   "source": [
    "# Testing cell - Do not alter.\n",
    "\n",
    "# test1: basic case ---\n",
    "hsp = (0, 10, 4)\n",
    "seq1 = 'GGGG'\n",
    "seq2 = 'ATATATATATGGGGAT'\n",
    "print('\\n--- test1 ---\\n')\n",
    "print('[expected]')\n",
    "print(\"\"\"\\\n",
    "target            0 GGGG 4\n",
    "                  0 |||| 4\n",
    "query             0 GGGG 4\n",
    "\"\"\")\n",
    "print('[actual]')\n",
    "print(local_alignment(seq1, seq2, hsp, 4))\n",
    "\n",
    "# test2: low score ---\n",
    "print('\\n--- test2 ---\\n')\n",
    "print('[expected]')\n",
    "print(f'{None}\\n')\n",
    "print('[actual]')\n",
    "print(local_alignment(seq1, seq2, hsp, 10))\n",
    "\n",
    "# test3 ---\n",
    "hsp = (4, 14, 8)\n",
    "seq1 = 'CATSGGGGGGGAAACGG'\n",
    "seq2 = 'ATATATATATTAGAGGGGGGGTAGCCGAATTAATATATATATATTATA'\n",
    "print('\\n--- test3 ---\\n')\n",
    "print('[expected]')\n",
    "print(\"\"\"\\\n",
    "target            2 TS-G-GGGGGG--AAA-C-G 16\n",
    "                  0 |--|-||||||--|---|-| 20\n",
    "query             0 T-AGAGGGGGGGTA--GCCG 17\n",
    "\"\"\")\n",
    "print('[actual]')\n",
    "print(local_alignment(seq1, seq2, hsp, 4))\n",
    "\n",
    "# test4: overhanging seq2 bounds ---\n",
    "hsp = (3, 10, 7)\n",
    "seq1 = 'AAAGGGGGGAAAA'\n",
    "seq2 = 'ATATATATATGGGGGG'\n",
    "print('\\n--- test4 ---\\n')\n",
    "print('[expected]')\n",
    "print(\"\"\"\\\n",
    "target            0 AAA-GGGGGG  9\n",
    "                  0 |---|||||| 10\n",
    "query             1 A--TGGGGGG  9\n",
    "\"\"\")\n",
    "print('[actual]')\n",
    "print(local_alignment(seq1, seq2, hsp, 4))\n",
    "\n"
   ]
  },
  {
   "cell_type": "markdown",
   "metadata": {
    "deletable": false,
    "editable": false,
    "nbgrader": {
     "cell_type": "markdown",
     "checksum": "95ecc4f847e0a945393bdb89acb3365c",
     "grade": false,
     "grade_id": "cell-4766fee8d34a3462",
     "locked": true,
     "schema_version": 3,
     "solution": false,
     "task": false
    }
   },
   "source": [
    "<div style=\"color: rgb(27,94,32); background: rgb(200,230,201); border: solid 1px rgb(129,199,132); padding: 10px;\">\n",
    "<h3>Question 6a</h3>\n",
    "\n",
    "<b>Challenge:</b> Write a function (or multiple) which identifies possible plastic-degrading proteins in the 'unknown' organism. \n",
    "- [ ] Input:\n",
    "    - Filepath to 'query' unknown organism FASTA File (str)\n",
    "    - Filepath to 'reference' PlasticDB FASTA File (str)\n",
    "    - a k-mer size (int)\n",
    "- [ ] Output: a list of tuples (Tuple[str, str])\n",
    "- [ ] Return an empty list if no matching sequences. \n",
    "\n",
    "Your output should be a list of tuples, where each tuple represents a sequence match between a protein from the 'unknown' bacteria, and a protein from the database. \n",
    "\n",
    "For example, if the protein named <small>`WP_003141008.1`</small> from our 'unknown' bacteria is similar to the PlasticDB protein named <small>`00148||Protease||Amycolatopsis_orientalis||PLA`</small>, our output to the final question should contain the following tuple: \n",
    "<small>`('WP_003141008.1', '00148||Protease||Amycolatopsis_orientalis||PLA')`</small>\n",
    "\n",
    "Notes:\n",
    "- You are free to implement this question however you like, but you must use indexing in your solution.\n",
    "- You may use functions defined in previous questions. \n",
    "- Global-scope constants have been defined for values relating to previous questions, if using these in your solution.\n",
    "- A helper function has been provided to load proteins from file.\n",
    "\n",
    "***1 mark*** is devoted to correct output. If your output is correct, an additional ***1 mark*** can be gained for quick runtime. <br>\n",
    "Begin with a solution which works, then optimise later if runtime is larger than desired.\n",
    "\n",
    "The definition of 'correct' output differs based on your implementation. <br>\n",
    "We will be checking the rough number of results you return, and whether specific tuples are in your output list. <br>\n",
    "You will need to decide for yourself whether your output is reasonable.\n"
   ]
  },
  {
   "cell_type": "code",
   "execution_count": null,
   "metadata": {},
   "outputs": [],
   "source": [
    "# helper function to load proteins from 'unknown' organism fasta file and PlasticDB fasta file. \n",
    "\n",
    "def load_proteins(filepath: str):\n",
    "    for seq in SeqIO.parse(filepath, \"fasta\"):\n",
    "        yield (seq.name, str(seq.seq))\n"
   ]
  },
  {
   "cell_type": "code",
   "execution_count": null,
   "metadata": {
    "deletable": false,
    "nbgrader": {
     "cell_type": "code",
     "checksum": "d5a25aa881d17cec22c212fedb136ca4",
     "grade": false,
     "grade_id": "cell-ab49fefbcac3a4a7",
     "locked": false,
     "schema_version": 3,
     "solution": true,
     "task": false
    }
   },
   "outputs": [
    {
     "ename": "ModuleNotFoundError",
     "evalue": "No module named 'Bio'",
     "output_type": "error",
     "traceback": [
      "\u001b[0;31m---------------------------------------------------------------------------\u001b[0m",
      "\u001b[0;31mModuleNotFoundError\u001b[0m                       Traceback (most recent call last)",
      "Cell \u001b[0;32mIn[1], line 3\u001b[0m\n\u001b[1;32m      1\u001b[0m \u001b[38;5;66;03m# -- GRADED CELL (2 marks) - complete this cell --\u001b[39;00m\n\u001b[0;32m----> 3\u001b[0m \u001b[38;5;28;01mimport\u001b[39;00m \u001b[38;5;21;01mBio\u001b[39;00m\u001b[38;5;21;01m.\u001b[39;00m\u001b[38;5;21;01mAlign\u001b[39;00m\n\u001b[1;32m      5\u001b[0m MAX_SPACING     \u001b[38;5;241m=\u001b[39m \u001b[38;5;241m8\u001b[39m      \u001b[38;5;66;03m# question 3\u001b[39;00m\n\u001b[1;32m      6\u001b[0m MAX_MISMATCHES  \u001b[38;5;241m=\u001b[39m \u001b[38;5;241m6\u001b[39m      \u001b[38;5;66;03m# question 4\u001b[39;00m\n",
      "\u001b[0;31mModuleNotFoundError\u001b[0m: No module named 'Bio'"
     ]
    }
   ],
   "source": [
    "# -- GRADED CELL (2 marks) - complete this cell --\n",
    "\n",
    "import Bio.Align\n",
    "\n",
    "MAX_SPACING     = 8      # question 3\n",
    "MAX_MISMATCHES  = 6      # question 4\n",
    "MIN_ALIGN_SCORE = 10     # question 5\n",
    "\n",
    "def identify_plastic_degrading_proteins(queries_filepath: str, reference_filepath: str, k: int) -> list[Tuple]:\n",
    "    # Load proteins from files\n",
    "    query_proteins = list(load_proteins(queries_filepath))\n",
    "    reference_proteins = list(load_proteins(reference_filepath))\n",
    "\n",
    "    # Initialize aligner\n",
    "    aligner = Bio.Align.PairwiseAligner()\n",
    "    aligner.mode = 'local'\n",
    "    aligner.mismatch_score = -1\n",
    "    aligner.match_score = 2\n",
    "    aligner.open_gap_score = -1\n",
    "    aligner.extend_gap_score = -0.5\n",
    "    aligner.target_end_gap_score = 0.0\n",
    "    aligner.query_end_gap_score = 0.0\n",
    "\n",
    "    results = []\n",
    "\n",
    "    # Iterate through query and reference proteins\n",
    "    for query_id, query_seq in query_proteins:\n",
    "        for ref_id, ref_seq in reference_proteins:\n",
    "            if len(query_seq) < k or len(ref_seq) < k:  # Ensure sequence length is at least k\n",
    "                continue\n",
    "\n",
    "            # Perform alignment\n",
    "            score = aligner.score(query_seq, ref_seq)\n",
    "\n",
    "            if score >= MIN_ALIGN_SCORE:\n",
    "                results.append((query_id, ref_id))\n",
    "\n",
    "    return results\n",
    "    "
   ]
  },
  {
   "cell_type": "code",
   "execution_count": null,
   "metadata": {},
   "outputs": [],
   "source": [
    "# extra code cell for development if needed"
   ]
  },
  {
   "cell_type": "code",
   "execution_count": null,
   "metadata": {
    "deletable": false,
    "editable": false,
    "nbgrader": {
     "cell_type": "code",
     "checksum": "289e5ab123534a9344b363f2d78433fc",
     "grade": true,
     "grade_id": "cell-7efe4e43ed55cad8",
     "locked": true,
     "points": 2,
     "schema_version": 3,
     "solution": false,
     "task": false
    }
   },
   "outputs": [],
   "source": [
    "\n",
    "# ensure you have downloaded the two fasta files, created a 'data' folder, and placed the fasta files in this folder.\n",
    "# the paths below are relative paths, so the 'data' folder must be located in your current working directory. \n",
    "UNKNOWN_PROTEOME_PATH = 'data/unknown.fasta'\n",
    "PLASTICDB_DATABASE_PATH = 'data/PlasticDB.fasta'\n",
    "\n",
    "identify_plastic_degrading_proteins(UNKNOWN_PROTEOME_PATH, PLASTICDB_DATABASE_PATH, 6)\n"
   ]
  },
  {
   "cell_type": "markdown",
   "metadata": {
    "deletable": false,
    "editable": false,
    "nbgrader": {
     "cell_type": "markdown",
     "checksum": "0fc4b744f8ea23684a6aba54166fe7ef",
     "grade": false,
     "grade_id": "cell-814a39061e40235b",
     "locked": true,
     "schema_version": 3,
     "solution": false,
     "task": false
    }
   },
   "source": [
    "<div style=\"color: rgb(27,94,32); background: rgb(200,230,201); border: solid 1px rgb(129,199,132); padding: 10px;\">\n",
    "<h3>Question 6b</h3>\n",
    "\n",
    "(Short Answer Question)<br>\n",
    "(1 mark, max 100 words)\n",
    "\n",
    "<div class=\"alert alert-info\">\n",
    "\n",
    "Describe your overall approach to Question 6a, noting any strategies to improve runtime. (0.5 marks)\n",
    "\n",
    "Suggest an additional strategy which could be implemented to further improve runtime performance or space efficiency.  (0.5 marks)\n",
    " \n",
    "</div>"
   ]
  },
  {
   "cell_type": "markdown",
   "metadata": {
    "deletable": false,
    "editable": false,
    "nbgrader": {
     "cell_type": "markdown",
     "checksum": "663b0eb84b3abefddda3b60ced0d0b53",
     "grade": false,
     "grade_id": "cell-dce7c22832ab3a68",
     "locked": true,
     "points": 1,
     "schema_version": 3,
     "solution": false,
     "task": true
    }
   },
   "source": [
    "<span style=\"color:rgb(17, 122, 121); font-family:Courier\"><i><b># -- GRADED CELL (1 mark) - complete this cell --</b></i></span>\n",
    "\n",
    "YOUR ANSWER HERE\n"
   ]
  },
  {
   "cell_type": "markdown",
   "metadata": {},
   "source": [
    "<div style=\"background: rgb(255,165,0); border: solid 1px rgb(129,199,132); padding: 10px;\">    \n",
    "<h1>END OF ASSIGNMENT</h1>\n",
    "</div>\n"
   ]
  },
  {
   "cell_type": "markdown",
   "metadata": {},
   "source": [
    "## Submitting\n",
    "\n",
    "Follow these steps to submit your assignment\n",
    "\n",
    "1) Before you turn this assignment in, make sure everything runs as expected. First, **restart the kernel** (in the menubar, select Kernel$\\rightarrow$Restart) and then **run all cells** (in the menubar, select Cell$\\rightarrow$Run All).\n",
    "\n",
    "2) Make sure you have filled in any place that says `YOUR CODE HERE` or \"YOUR ANSWER HERE\"\n",
    "\n",
    "3) **Clear all output** (in the menubar, select Kernel$\\rightarrow$Restart & Clear Output)\n",
    "\n",
    "4) Your completed notebook file containing all your answers must be turned in via LMS in `.ipynb` format.\n",
    "\n",
    "5) You must also submit a copy of this notebook in `html` format with the output cleared (see step 3).\n",
    "\n",
    "\n",
    "Your submission should include **only two** files with names formatted as: **Assignment_1.ipynb** and **Assignment_1.html**"
   ]
  }
 ],
 "metadata": {
  "kernelspec": {
   "display_name": "Python 3 (ipykernel)",
   "language": "python",
   "name": "python3"
  },
  "language_info": {
   "codemirror_mode": {
    "name": "ipython",
    "version": 3
   },
   "file_extension": ".py",
   "mimetype": "text/x-python",
   "name": "python",
   "nbconvert_exporter": "python",
   "pygments_lexer": "ipython3",
   "version": "3.10.13"
  }
 },
 "nbformat": 4,
 "nbformat_minor": 4
}
